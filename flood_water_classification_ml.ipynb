{
  "nbformat": 4,
  "nbformat_minor": 0,
  "metadata": {
    "colab": {
      "name": "flood_water_classification_ml.ipynb",
      "provenance": [],
      "collapsed_sections": [],
      "toc_visible": true,
      "include_colab_link": true
    },
    "kernelspec": {
      "name": "python3",
      "display_name": "Python 3"
    },
    "accelerator": "GPU"
  },
  "cells": [
    {
      "cell_type": "markdown",
      "metadata": {
        "id": "view-in-github",
        "colab_type": "text"
      },
      "source": [
        "<a href=\"https://colab.research.google.com/github/shahryaramd/flood-mapping/blob/master/flood_water_classification_ml.ipynb\" target=\"_parent\"><img src=\"https://colab.research.google.com/assets/colab-badge.svg\" alt=\"Open In Colab\"/></a>"
      ]
    },
    {
      "cell_type": "markdown",
      "metadata": {
        "id": "aV1xZ1CPi3Nw",
        "colab_type": "text"
      },
      "source": [
        "<table class=\"ee-notebook-buttons\" align=\"left\"><td>\n",
        "<a target=\"_blank\"  href=\"http://colab.research.google.com/github/google/earthengine-api/blob/master/python/examples/ipynb/TF_demo1_keras.ipynb\">\n",
        "    <img src=\"https://www.tensorflow.org/images/colab_logo_32px.png\" /> Run in Google Colab</a>\n",
        "</td><td>\n",
        "<a target=\"_blank\"  href=\"https://github.com/google/earthengine-api/blob/master/python/examples/ipynb/TF_demo1_keras.ipynb\"><img width=32px src=\"https://www.tensorflow.org/images/GitHub-Mark-32px.png\" /> View source on GitHub</a></td></table>"
      ]
    },
    {
      "cell_type": "markdown",
      "metadata": {
        "id": "sG1l92J7DwRo",
        "colab_type": "text"
      },
      "source": [
        "Written by Shahryar Ahmad (skahmad@uw.edu)\n",
        "\n",
        "*(modified from [TF_demo1_keras.ipynb](https://github.com/google/earthengine-api/blob/master/python/examples/ipynb/TF_demo1_keras.ipynb))*"
      ]
    },
    {
      "cell_type": "markdown",
      "metadata": {
        "id": "AC8adBmw-5m3",
        "colab_type": "text"
      },
      "source": [
        "# Steps followed: \n",
        "\n",
        "1.   Exporting training/testing data from Earth Engine in TFRecord format - Four flood events in US.\n",
        "2.   Preparing the data for use in a TensorFlow model.\n",
        "2.   Training and validating a Sequential model in TensorFlow.\n",
        "3.   Making predictions on image data exported from Earth Engine in TFRecord format.\n",
        "4.   Ingesting classified image data to Earth Engine in TFRecord format.\n"
      ]
    },
    {
      "cell_type": "markdown",
      "metadata": {
        "id": "Ejxa1MQjEGv9",
        "colab_type": "text"
      },
      "source": [
        "## Authenticate to Earth Engine\n",
        "\n"
      ]
    },
    {
      "cell_type": "code",
      "metadata": {
        "id": "HzwiVqbcmJIX",
        "colab_type": "code",
        "cellView": "code",
        "colab": {
          "base_uri": "https://localhost:8080/",
          "height": 173
        },
        "outputId": "b0764fab-d9e9-4ef8-b132-552afd4a70f9"
      },
      "source": [
        "from google.colab import auth\n",
        "auth.authenticate_user()\n",
        "\n",
        "import ee\n",
        "ee.Authenticate()\n",
        "ee.Initialize()"
      ],
      "execution_count": null,
      "outputs": [
        {
          "output_type": "stream",
          "text": [
            "To authorize access needed by Earth Engine, open the following URL in a web browser and follow the instructions. If the web browser does not start automatically, please manually browse the URL below.\n",
            "\n",
            "    https://accounts.google.com/o/oauth2/auth?client_id=517222506229-vsmmajv00ul0bs7p89v5m89qs8eb9359.apps.googleusercontent.com&scope=https%3A%2F%2Fwww.googleapis.com%2Fauth%2Fearthengine+https%3A%2F%2Fwww.googleapis.com%2Fauth%2Fdevstorage.full_control&redirect_uri=urn%3Aietf%3Awg%3Aoauth%3A2.0%3Aoob&response_type=code&code_challenge=lNS6XH7KR4My0vWbGAUVeqd17ZsNNt3g9x57MGosldw&code_challenge_method=S256\n",
            "\n",
            "The authorization workflow will generate a code, which you should paste in the box below. \n",
            "Enter verification code: 4/2wGzDm7tm33s3TWZZzqXVFuyEHwsZyCddeC0usHe1cXohoPS1ojRS2Y\n",
            "\n",
            "Successfully saved authorization token.\n"
          ],
          "name": "stdout"
        }
      ]
    },
    {
      "cell_type": "code",
      "metadata": {
        "id": "FzskjNXYJ06D",
        "colab_type": "code",
        "colab": {
          "base_uri": "https://localhost:8080/",
          "height": 122
        },
        "outputId": "df5a9ea8-e16e-4515-c348-309a08d49b98"
      },
      "source": [
        "from google.colab import drive\n",
        "drive.mount('/content/drive')"
      ],
      "execution_count": null,
      "outputs": [
        {
          "output_type": "stream",
          "text": [
            "Go to this URL in a browser: https://accounts.google.com/o/oauth2/auth?client_id=947318989803-6bn6qk8qdgf4n4g3pfee6491hc0brc4i.apps.googleusercontent.com&redirect_uri=urn%3aietf%3awg%3aoauth%3a2.0%3aoob&scope=email%20https%3a%2f%2fwww.googleapis.com%2fauth%2fdocs.test%20https%3a%2f%2fwww.googleapis.com%2fauth%2fdrive%20https%3a%2f%2fwww.googleapis.com%2fauth%2fdrive.photos.readonly%20https%3a%2f%2fwww.googleapis.com%2fauth%2fpeopleapi.readonly&response_type=code\n",
            "\n",
            "Enter your authorization code:\n",
            "··········\n",
            "Mounted at /content/drive\n"
          ],
          "name": "stdout"
        }
      ]
    },
    {
      "cell_type": "markdown",
      "metadata": {
        "id": "iJ70EsoWND_0",
        "colab_type": "text"
      },
      "source": [
        "## Test the TensorFlow installation\n",
        "\n",
        "Import the TensorFlow library and check the version."
      ]
    },
    {
      "cell_type": "code",
      "metadata": {
        "id": "i1PrYRLaVw_g",
        "colab_type": "code",
        "cellView": "code",
        "colab": {
          "base_uri": "https://localhost:8080/",
          "height": 51
        },
        "outputId": "c7d78c7c-08ea-4e50-e0bd-7a08e989e2fd"
      },
      "source": [
        "import tensorflow as tf\n",
        "print(tf.__version__)\n",
        "import folium\n",
        "from pprint import pprint\n",
        "\n",
        "print(folium.__version__)"
      ],
      "execution_count": null,
      "outputs": [
        {
          "output_type": "stream",
          "text": [
            "2.3.0\n",
            "0.8.3\n"
          ],
          "name": "stdout"
        }
      ]
    },
    {
      "cell_type": "markdown",
      "metadata": {
        "id": "DrXLkJC2QJdP",
        "colab_type": "text"
      },
      "source": [
        "# Define variables\n",
        "\n",
        "This set of global variables will be used throughout.  Need a Cloud Storage bucket to which files will be written. "
      ]
    },
    {
      "cell_type": "code",
      "metadata": {
        "id": "vzIJVWT1Nr1i",
        "colab_type": "code",
        "colab": {
          "base_uri": "https://localhost:8080/",
          "height": 54
        },
        "outputId": "fb250de9-a1c4-41f6-8118-82afbba6e210"
      },
      "source": [
        "LABEL_DATA = ee.FeatureCollection(\"users/shahryarahmad/labeldata_floodmap\") ## label data prepared from GEE, exported as an asset\n",
        "print(LABEL_DATA.getInfo())"
      ],
      "execution_count": null,
      "outputs": [
        {
          "output_type": "stream",
          "text": [
            "{'type': 'FeatureCollection', 'columns': {'landuse': 'Integer', 'system:index': 'String'}, 'version': 1595454561411139, 'id': 'users/shahryarahmad/labeldata_floodmap', 'properties': {'system:asset_size': 20717}, 'features': [{'type': 'Feature', 'geometry': {'type': 'MultiPoint', 'coordinates': [[-96.27903249019194, 29.524446260654514], [-78.28795147071934, 34.46159603847051], [-95.13016614112992, 29.211419135686917], [-97.92315450441737, 41.291793138298246], [-92.80522476655294, 35.17859397056139], [-78.32357256581693, 34.692087631438724], [-78.13431955702647, 34.38655962849069], [-96.27391148263025, 29.488776048115042], [-78.25331677626228, 34.44946620495058], [-96.17976206204301, 29.510841543471596], [-78.58121940897713, 34.622653683146524], [-77.98391428121893, 34.26855927866136], [-95.36553548443504, 29.303238736887895], [-95.09202110562462, 29.220462985790135], [-96.36402029448557, 29.475285637444358], [-95.06476047430176, 29.21499568668974], [-92.66286606468398, 35.107412934159036], [-97.56710604336058, 41.456449039537446], [-96.3592701023202, 29.444978057590987], [-96.19204363917916, 29.438715079076765], [-94.13123066105086, 35.429866042591975], [-97.6118466308335, 41.40396647027901], [-95.52857000066307, 29.298198759171136], [-78.22395999859428, 34.47580701089376], [-95.33025819989533, 29.438257701235315], [-95.07463502679009, 29.21251183764358], [-96.0625329056336, 29.652020682769354], [-77.99106303879586, 34.29960807305101], [-97.50553727652823, 41.46439489760735], [-95.4876926707048, 29.304432788313246], [-96.26148246133137, 29.478951884289692], [-95.56092770564743, 29.298840156654816], [-96.3651414578538, 29.45310962170529], [-96.13644908031829, 29.48842693404065], [-78.27215073261969, 34.54779525574725], [-96.16613674490105, 29.20598191969497], [-96.21993425434441, 29.439760967227365], [-96.05916136890188, 29.661257283677994], [-96.21868132745831, 29.43742011329683], [-96.15980843862897, 29.516646013373034], [-95.28343578903107, 29.52725338232842], [-96.039686519797, 29.684072149257787], [-78.09485846196336, 34.35128974499421], [-95.25335831135887, 29.59480414599016], [-97.4086009016255, 41.414728879373], [-97.66920835282599, 41.34954276031516], [-95.98936100740444, 29.374156384332935], [-78.14711704678878, 34.3739700550398], [-95.52945189608978, 29.390953284076826], [-92.6778006044789, 35.087829104058024], [-95.36538816016056, 29.40514073580115], [-95.29891477692314, 29.183487386411887], [-77.93687235841122, 34.28578712488195], [-78.28489256654494, 34.57780914664171], [-97.63557479288374, 41.36413609479205], [-96.16631246021396, 29.483881088170726], [-96.1985445353235, 29.25717985901633], [-98.44682451873858, 40.99099865154672], [-78.05699707006139, 34.375791425779454], [-98.14730092801356, 41.23673814247961], [-95.2158650658641, 29.572708379118467], [-97.72273544279764, 41.33345680812221], [-78.1380702083086, 34.41128952968826], [-95.12397193443432, 29.26979444050317], [-95.29936516754306, 29.26198518078532], [-96.1946225058139, 29.49299796514381], [-78.0808097216956, 34.346311040095465], [-78.16577752064323, 34.43362642938512], [-98.26133501320918, 41.064643548124636], [-95.59567667049916, 29.401543074257564], [-95.46689873504214, 29.410588586157004], [-95.28366822930666, 29.51517470859453], [-96.2873822068553, 29.45233917723503], [-93.12170556549209, 35.188976533081856], [-92.63549123595847, 35.103310480755454], [-96.14203042200214, 29.513899625025907], [-95.87781196562676, 29.56986862120394], [-96.22390102499533, 29.457521099191165], [-98.15256878651881, 41.17782427178731], [-78.29822433124637, 34.47442560225037], [-78.58558823973605, 34.11750853676497], [-92.81463195274962, 35.13192813072369], [-95.30171216662708, 29.60247270394369], [-93.71831308823873, 35.40091564360398], [-97.3550733974198, 41.39893267197275], [-78.49340371190488, 34.568513053527575], [-95.53924741018005, 29.25797143867768], [-96.1106603088927, 29.4391828432155], [-96.04149097591178, 29.67622599023478], [-94.10682569962789, 35.4614276922201], [-95.56273243827374, 29.400588510638755], [-96.00444306869518, 29.37720427075624], [-78.23042278121567, 34.43282725490088], [-98.3135777703693, 41.151271439323395], [-95.34904370181239, 29.301075802716575], [-98.44996806770403, 41.02948553205605], [-96.18644665831138, 29.452380341714267], [-95.69939808714577, 29.43090661129833], [-95.89365533990416, 29.504064852613926], [-98.69661998540003, 41.03093324667783], [-96.36674273663569, 29.47275500041446], [-78.42190138398587, 34.639640566981434], [-96.13557903876907, 29.46801630986805], [-78.11742029912814, 34.3877637541881], [-96.19183767168175, 29.218359217315406], [-97.78808071297729, 41.22432838201547], [-98.61306917458613, 40.983493160955604], [-96.03047849624888, 29.678616372178393], [-96.24323774033594, 29.476680525588492], [-96.15209135739458, 29.181117459678426], [-95.18370037841372, 29.365740608583852], [-78.56948340343247, 34.6122559153532], [-95.65916096894173, 29.610827142589613], [-96.15363963371834, 29.453345659183515], [-78.26742132757418, 34.55979040470156]]}, 'id': '00000000000000000000', 'properties': {'landuse': 2}}, {'type': 'Feature', 'geometry': {'type': 'MultiPoint', 'coordinates': [[-94.1368542355425, 35.454778212704205], [-78.52585266756799, 34.29815077179454], [-96.03286309094732, 29.65758999860096], [-95.87574564421669, 29.61561065240859], [-93.82561874808142, 35.481490203695415], [-97.47896650521376, 41.45044228139686], [-95.3505352860703, 29.1987827919581], [-95.17606814016672, 29.201030387422186], [-93.43546462477514, 35.42585643948321], [-95.89192273022238, 29.609763907037983], [-98.02100420663854, 41.33444507254446], [-96.34889793972675, 29.401413288329056], [-95.53262759556146, 29.236951889949758], [-96.07069890054439, 29.191315956685532], [-93.94687873543569, 35.468185560608006], [-93.40659142048415, 35.3646805289669], [-78.20447262782743, 34.3545439103061], [-96.25478448927119, 29.35997069151763], [-95.47827688501559, 29.368440914753062], [-96.06028253227011, 29.678559278658458], [-98.55718181040085, 41.080714413866566], [-78.01235344666797, 34.313557094693024], [-78.39307946626104, 34.682396600926864], [-92.85181135447081, 35.17044498668656], [-78.31920761797095, 34.4117480047604], [-95.21108303775164, 29.26682420370737], [-95.46704331427529, 29.266622993953504], [-93.68930352152654, 35.103804268070746], [-95.54080183496293, 29.246581053396532], [-95.92893971065324, 29.641456612695332], [-95.51690069483004, 29.34238962492784], [-97.91985633475149, 41.38055446497829], [-98.38825226495764, 41.27718354382104], [-95.83887165339294, 29.6068929548895], [-78.33716476727162, 34.428955228785604], [-95.30332557620484, 29.276612475197922], [-93.41057181866225, 35.33770223326785], [-77.95905898737695, 34.179074943448306], [-95.95774998823445, 29.654384953066334], [-93.77022576750586, 35.38350724834203], [-78.20239827443054, 34.35020537513551], [-78.45859913070797, 34.58970497935814], [-78.05274897414957, 34.354055451807106], [-95.14516104568811, 29.175689319210385], [-95.26939779281754, 29.191499648215046], [-96.0043842152719, 29.62926365715598], [-78.6218376365465, 34.64075007780196], [-93.0488061955696, 35.2670439178071], [-98.51533301824813, 41.133152373723014], [-96.01457903176085, 29.641334397051587], [-92.72336304695662, 35.201066957721565], [-92.96724826605376, 35.205029499166464], [-77.9664333203639, 34.32419358285239], [-78.60147028239192, 34.68722643551805], [-95.1803098297474, 29.204920877138793], [-95.5532551239905, 29.248901862170506], [-95.89495723627049, 29.279134433828546], [-78.27118283319736, 34.39808150434172], [-96.1457790971733, 29.318676110876186], [-94.05040127457448, 35.45464056661804], [-97.85420017985648, 41.17116121090894], [-97.40155392973045, 41.38751969166461], [-95.54615622157499, 29.474887255217666], [-96.17044494427435, 29.31619691744108], [-96.09402882013879, 29.27848372565674], [-95.04196573604915, 29.1948818548973], [-92.64293700964507, 35.075616774484175], [-78.63210781486453, 34.70400750564082], [-98.4696898674417, 41.169463385671705], [-97.58446346449033, 41.339429770124205], [-96.24852546677657, 29.33543018434984], [-96.11443262460662, 29.309304811404285], [-78.22128693393978, 34.371585859113225], [-95.05840901841493, 29.18224881197806], [-96.26838772744605, 29.337727644979086], [-93.25260043652113, 35.28669626977558], [-95.64597619173024, 29.49326812173369], [-98.15768515232185, 40.971077478449324], [-95.71635628029772, 29.381073064113618], [-93.19248140366135, 35.37906293560547], [-95.79023952811144, 29.600317476085454], [-96.3514708487243, 29.39104579041111], [-98.31999540994664, 41.275001455558815], [-93.18334043533858, 35.259006429296285], [-98.61817926671301, 41.06805465558202], [-96.34282015250744, 29.56792611018323], [-95.75270095254653, 29.608337260842255], [-93.2025611451393, 35.307007080468374], [-93.63054782660063, 35.384477544924415], [-96.09093656842074, 29.258375777474072], [-95.51189586291358, 29.478575844620984], [-98.21938297145734, 40.98197281153515], [-78.50500939329265, 34.643029965866695], [-98.12228307793637, 41.289912785520244], [-98.66126895453726, 41.069341771562165], [-95.32725807041069, 29.195619236285793], [-95.30394315483053, 29.279376099388454], [-95.64790168252681, 29.47943156964117], [-95.27260643711061, 29.199497497929105], [-96.0494686469585, 29.667340862727038], [-92.59756207974013, 35.23655856217329], [-97.70501394843596, 41.27122645828019], [-92.81729132444914, 35.1190529124326], [-95.32003573836762, 29.23769388468885], [-97.48747210430278, 41.3670898723405], [-93.33211184055861, 35.402551310699174], [-97.65868159634437, 41.44402666107647], [-95.09985521722474, 29.185516541189592], [-96.18307260640667, 29.327643353820203], [-78.00080488848474, 34.29686115635732], [-78.34401271845198, 34.445203571326736], [-94.16635853470633, 35.37733151621824], [-96.0995732814487, 29.257121662613585], [-78.49712084460046, 34.280426797458134], [-95.1213859449801, 29.187688587287855], [-78.24233692744993, 34.383766139094874], [-78.40728847225307, 34.668466868549906], [-95.7214424191422, 29.390069181117063], [-93.4361922791725, 35.297854930702265], [-93.48947972567137, 35.418708441782606], [-93.04545611651, 35.1586416299673], [-95.88480909846264, 29.262552113510594], [-95.90562974594076, 29.28023401638031]]}, 'id': '00000000000000000001', 'properties': {'landuse': 1}}, {'type': 'Feature', 'geometry': {'type': 'MultiPoint', 'coordinates': [[-98.5263752987603, 41.220670270404945], [-96.21046508873464, 29.388595499024113], [-95.0866089263845, 29.608687090661267], [-95.7579120549059, 29.36852068606262], [-95.1857057619522, 29.50296724423599], [-78.27755243326364, 34.359854351935915], [-97.38661885764395, 40.98116822608798], [-78.35893438593443, 34.513420741600044], [-95.97906796782816, 29.42172030324341], [-78.08062894213144, 34.60102754977027], [-95.32853345069175, 29.65341127194596], [-95.48525843021854, 29.490335432282112], [-95.75355856269205, 29.49372464119775], [-98.25726926829611, 41.35876300366095], [-93.64657938988265, 35.49505188151775], [-97.66914666201866, 41.08148067459508], [-98.66369367148674, 40.983589922676416], [-78.35796107933815, 34.419518362981485], [-96.06148193272834, 29.55841603215994], [-95.84431956204658, 29.56022185714965], [-95.44431258106532, 29.4772569092019], [-95.37942994499505, 29.343754297108656], [-95.49707273635154, 29.574298719305204], [-93.93323243172225, 35.35934771421452], [-95.78522498930455, 29.25523158606138], [-94.0268790772682, 35.19017335592551], [-93.27082872898634, 35.35840710739252], [-78.15286458278833, 34.340360587655084], [-96.01834887653128, 29.65116405011166], [-78.52132346511583, 34.63398934703891], [-98.68061292567366, 41.341587879592716], [-93.38375509293135, 35.45554664666347], [-95.53098011875451, 29.427826927342043], [-93.15033853561934, 35.53479962249564], [-93.6904362413101, 35.467420049356065], [-93.28454018147048, 35.09819249718224], [-96.21747075169885, 29.528679457515782], [-78.25662152306136, 34.491695718736686], [-95.61019717305506, 29.253818577134567], [-78.56692370057802, 34.57522365427103], [-95.69976417868936, 29.498636563711205], [-96.0729613342835, 29.675099816922515], [-94.08815682442244, 35.41298790677066], [-97.83446193244254, 41.24573084401315], [-95.15138330333924, 29.318725310401486], [-78.4754822956318, 34.36116753793934], [-95.57234082703093, 29.562831751056294], [-95.42874072079161, 29.544487834783066], [-92.81574368984755, 35.288119374696095], [-95.03717202806772, 29.37917689701016], [-95.26690427546004, 29.388168501069455], [-78.28185038105543, 34.428962357556344], [-97.57631004359519, 41.104480510706544], [-78.16864938284097, 34.4133409095561], [-96.11126104983573, 29.370247225722096], [-95.18232245111766, 29.52882626434052], [-93.71416569263992, 35.040184486467616], [-95.58644930514579, 29.668929414437702], [-93.03057790310439, 35.389716861267296], [-95.10991189960936, 29.38961278733779], [-96.04146956055963, 29.494663075185], [-78.35191504494246, 34.40941718596697], [-78.35504259944658, 34.551170909072844], [-92.96401620419083, 35.05361446990352], [-97.47386038806235, 41.25202271768207], [-93.59004378826675, 35.34727649064749], [-95.86572621349791, 29.443020608271574], [-95.96199570744837, 29.224977099776797], [-93.81672800095137, 35.1131795352323], [-96.01315746098295, 29.675200025302217], [-95.80515916670323, 29.22619622395697], [-92.8978407433754, 35.47094389553913], [-98.05151165034569, 41.16250825311903], [-96.12694083302821, 29.258803807971617], [-97.35981822516715, 41.23320175809141], [-78.18960709440653, 34.67928351221039], [-95.45125792416816, 29.600930672634803], [-95.96321005487741, 29.35522655581835], [-97.64798403289115, 41.15723769509401], [-97.90900588538443, 41.02002207336905], [-78.20057810679968, 34.491188361804824], [-93.81181955845413, 35.254579995110966], [-93.39386165649947, 35.040970671256446], [-98.13705802466666, 41.39348196870403], [-95.19741098078971, 29.669183446420224], [-93.46539080650862, 35.19823958374995], [-98.0792886069039, 41.08480844735089], [-95.34902723901962, 29.50444044206221], [-78.40792627469595, 34.423571767189046], [-78.45213186026315, 34.625687602571915], [-95.4333434501577, 29.65297771782906], [-97.81214058902061, 41.4594230713252], [-95.66315774206618, 29.51791802018284], [-96.03962482898967, 29.65748722597477], [-98.18525195624625, 41.32039160042811], [-95.78407852622348, 29.55807203542464], [-95.5890294464922, 29.371552379210954], [-95.95666615813577, 29.349524803573765], [-78.17865268136201, 34.340521153469446], [-95.99414466470087, 29.502566338087526], [-78.13597900736278, 34.66084610180176], [-95.34346262606866, 29.66018006818454], [-96.01965177917779, 29.44132890603814], [-95.60219909275534, 29.313055402927453], [-96.02857349961603, 29.272402195490876], [-94.03751671822127, 35.099329238807414], [-93.60899627716597, 35.21218262420937], [-92.69404650242384, 35.489487462020364], [-78.49541600824098, 34.49566366593222], [-96.07861073702112, 29.65931866423067], [-95.07037509346307, 29.406512106685355], [-78.29782054568467, 34.39448705736612], [-96.25338553040828, 29.39105679078292], [-95.25197778229216, 29.422253327242373], [-98.04328799750601, 41.397413603495345], [-95.8646452832649, 29.29909499441667], [-97.94499576594626, 41.446396224845984], [-94.0319216302162, 35.322997325811016], [-98.70122850444113, 41.15469717513891], [-78.37238844514589, 34.53128754975838], [-78.35118960619668, 34.5981412266995], [-95.27582253540517, 29.298172705906637], [-97.60639369990623, 40.96992520586942], [-97.91229963805472, 41.34825711768085], [-95.9201992550779, 29.60578841495944], [-97.4670046618203, 41.16428116548965], [-93.21297884495314, 35.458177145933405], [-93.35898757488785, 35.31381853233829], [-93.70750308544692, 35.2007951834139], [-95.48851463196263, 29.557865070851484], [-96.29932908862436, 29.422257737536732], [-78.15936998859938, 34.501648796293026], [-97.84545362498558, 41.105078746665534], [-92.91531801731642, 35.302620482037156], [-96.03779885170444, 29.477806664796027], [-78.44497831002768, 34.4837158194446]]}, 'id': '00000000000000000002', 'properties': {'landuse': 0}}]}\n"
          ],
          "name": "stdout"
        }
      ]
    },
    {
      "cell_type": "code",
      "metadata": {
        "id": "GHTOc5YLQZ5B",
        "colab_type": "code",
        "colab": {}
      },
      "source": [
        "#  Earth Engine username.  This is used to import a classified image\n",
        "# into your Earth Engine assets folder.\n",
        "USER_NAME = 'shahryarahmad'\n",
        "\n",
        "# Cloud Storage bucket into which training, testing and prediction \n",
        "# datasets will be written.\n",
        "OUTPUT_BUCKET = 'water-classification-sensitivity'\n",
        "\n",
        "# Use Sentinel-1 SAR for preliminary classification, conservative threshold of -24dB used\n",
        "THRESHOLD = -24\n",
        "\n",
        "s1 = ee.ImageCollection(\"COPERNICUS/S1_GRD\")\n",
        "srtm = ee.Image(\"USGS/SRTMGL1_003\");\n",
        "\n",
        "# Use these bands for prediction.\n",
        "BANDS = ['VV-flood','VH-flood','VV-noflood','VH-noflood','elevation','slope']\n",
        "\n",
        "# The labels, consecutive integer indices starting from zero, are stored in\n",
        "# this property, set on each point.\n",
        "LABEL = 'landuse'\n",
        "# Number of label values, i.e. number of classes in the classification.\n",
        "N_CLASSES = 3\n",
        "\n",
        "# These names are used to specify properties in the export of\n",
        "# training/testing data and to define the mapping between names and data\n",
        "# when reading into TensorFlow datasets.\n",
        "FEATURE_NAMES = list(BANDS)\n",
        "FEATURE_NAMES.append(LABEL)\n",
        "\n",
        "# File names for the training and testing datasets.  These TFRecord files\n",
        "# will be exported from Earth Engine into the Cloud Storage bucket.\n",
        "TRAIN_FILE_PREFIX = 'Training_water_all' \n",
        "TEST_FILE_PREFIX = 'Testing_water_all' \n",
        "file_extension = '.tfrecord.gz'\n",
        "TRAIN_FILE_PATH = 'gs://' + OUTPUT_BUCKET + '/' + TRAIN_FILE_PREFIX + file_extension\n",
        "TEST_FILE_PATH = 'gs://' + OUTPUT_BUCKET + '/' + TEST_FILE_PREFIX + file_extension\n"
      ],
      "execution_count": null,
      "outputs": []
    },
    {
      "cell_type": "markdown",
      "metadata": {
        "id": "ZcjQnHH8zT4q",
        "colab_type": "text"
      },
      "source": [
        "# Get Training and Testing data from Earth Engine\n"
      ]
    },
    {
      "cell_type": "code",
      "metadata": {
        "id": "DJYucYe3SPPr",
        "colab_type": "code",
        "colab": {
          "base_uri": "https://localhost:8080/",
          "height": 691
        },
        "outputId": "6d8e4c9b-7ca0-44d7-f842-ece113042897"
      },
      "source": [
        "#//*******************  SENTINEL SAR 1 PROCESSING  ***********************************************************\n",
        "\n",
        "# Threshold for look angle used to remove erroneous data at far edges of images\n",
        "angle_threshold_1 = ee.Number(45.4);\n",
        "angle_threshold_2 = ee.Number(31.66)\n",
        "\n",
        "# Define focal median function\n",
        "def focal_median(img):\n",
        "  fm = img.focal_max(30, 'circle', 'meters')\n",
        "  # print(fm.getInfo())\n",
        "  fm = fm.rename([\"VV_Smooth\", \"VH_Smooth\"])\n",
        "  return img.addBands(fm)\n",
        "\n",
        "\n",
        "def smoothing(img):\n",
        "  boxcar = ee.Kernel.circle(radius = 1, units = 'pixels', magnitude = 1);\n",
        "\n",
        "  # Closing operation\n",
        "  smooth = img.focal_max(kernel = boxcar, iterations = 1).focal_min(kernel = boxcar, iterations = 1)\n",
        "  # Smooth the image by convolving with the boxcar kernel.\n",
        "  # smooth = img.convolve(boxcar);\n",
        "  smooth = smooth.rename(\"Smooth\")\n",
        "  return img.addBands(smooth)\n",
        "\n",
        "# Define masking function for removing erroneous pixels\n",
        "def mask_by_angle(img):\n",
        "  angle = img.select('angle');\n",
        "  vv = img.select('VH');\n",
        "  mask1 = angle.lt(angle_threshold_1);\n",
        "  mask2 = angle.gt(angle_threshold_2);\n",
        "  vv = vv.updateMask(mask1);\n",
        "  return vv.updateMask(mask2);\n",
        "\n",
        "def mask_by_angle_VV(img):\n",
        "  angle = img.select('angle');\n",
        "  vv = img.select('VV');\n",
        "  mask1 = angle.lt(angle_threshold_1);\n",
        "  mask2 = angle.gt(angle_threshold_2);\n",
        "  vv = vv.updateMask(mask1);\n",
        "  return vv.updateMask(mask2);\n",
        "\n",
        "### Prepare SAR imagery for training over multiple regions\n",
        "\n",
        "houston =  ee.Geometry.Point([-95.76422509388891, 29.46698384300668])\n",
        "florence = ee.Geometry.Point([-78.30901300007325, 34.642647795510356])\n",
        "missouri = ee.Geometry.Point([-97.925274609375, 40.572107759969555])\n",
        "arkansas = ee.Geometry.Point([-93.07378231277586, 35.20230235842815])\n",
        "\n",
        "# eg 4. arkansas\n",
        "date_range_ar = ee.DateRange('2019-01-01','2019-01-20');\n",
        "date_range2_ar = ee.DateRange('2019-05-25','2019-05-30');\n",
        "\n",
        "# eg 3. missouri\n",
        "date_range_mi = ee.DateRange('2019-08-01','2019-08-20');\n",
        "date_range2_mi = ee.DateRange('2019-03-13','2019-03-25');\n",
        "\n",
        "\n",
        "# eg 2. florence\n",
        "date_range_fl = ee.DateRange('2018-08-07','2018-08-20');\n",
        "date_range2_fl = ee.DateRange('2018-09-17','2018-09-29');\n",
        "\n",
        "\n",
        "# eg 1. harvey\n",
        "date_range_ho = ee.DateRange('2017-06-07','2017-06-09');\n",
        "date_range2_ho = ee.DateRange('2017-08-25','2017-08-30');\n",
        "\n",
        "\n",
        "#non-flooded\n",
        "s1nf_houston = s1\\\n",
        "  .filterDate(date_range_ho)\\\n",
        "  .filterBounds(houston)\\\n",
        "  .filter(ee.Filter.listContains('transmitterReceiverPolarisation', 'VH'))\\\n",
        "  .filter(ee.Filter.eq('instrumentMode', 'IW'))\n",
        "\n",
        "s1nf_florence = s1\\\n",
        "  .filterDate(date_range_fl)\\\n",
        "  .filterBounds(florence)\\\n",
        "  .filter(ee.Filter.listContains('transmitterReceiverPolarisation', 'VH'))\\\n",
        "  .filter(ee.Filter.eq('instrumentMode', 'IW'))\n",
        "\n",
        "s1nf_arkansas = s1\\\n",
        "  .filterDate(date_range_ar)\\\n",
        "  .filterBounds(arkansas)\\\n",
        "  .filter(ee.Filter.listContains('transmitterReceiverPolarisation', 'VH'))\\\n",
        "  .filter(ee.Filter.eq('instrumentMode', 'IW'))\n",
        "\n",
        "s1nf_missouri = s1\\\n",
        "  .filterDate(date_range_mi)\\\n",
        "  .filterBounds(missouri)\\\n",
        "  .filter(ee.Filter.listContains('transmitterReceiverPolarisation', 'VH'))\\\n",
        "  .filter(ee.Filter.eq('instrumentMode', 'IW'))\n",
        "\n",
        "s1_noflood = ee.ImageCollection.fromImages([s1nf_houston.first(), s1nf_florence.first(),\n",
        "                                  s1nf_missouri.first(), s1nf_arkansas.first()]).mosaic()\n",
        "\n",
        "vh_noflood = mask_by_angle(s1_noflood)\n",
        "vv_noflood = mask_by_angle_VV(s1_noflood)\n",
        "vv_noflood = vv_noflood.addBands(vh_noflood.select('VH'))\n",
        "vv_noflood = focal_median(vv_noflood)  # has 4 bands: VV, VH, VV_Smooth, VH_Smooth\n",
        "vv_noflood = vv_noflood.select([\"VV_Smooth\", \"VH_Smooth\"]).rename(['VV-noflood','VH-noflood'])\n",
        " \n",
        "\n",
        "## Flooded image\n",
        "\n",
        "s1f_houston = s1\\\n",
        "  .filterDate(date_range2_ho)\\\n",
        "  .filterBounds(houston)\\\n",
        "  .filter(ee.Filter.listContains('transmitterReceiverPolarisation', 'VH'))\\\n",
        "  .filter(ee.Filter.eq('instrumentMode', 'IW'))\n",
        "\n",
        "s1f_florence = s1\\\n",
        "  .filterDate(date_range2_fl)\\\n",
        "  .filterBounds(florence)\\\n",
        "  .filter(ee.Filter.listContains('transmitterReceiverPolarisation', 'VH'))\\\n",
        "  .filter(ee.Filter.eq('instrumentMode', 'IW'))\n",
        "\n",
        "s1f_arkansas = s1\\\n",
        "  .filterDate(date_range2_ar)\\\n",
        "  .filterBounds(arkansas)\\\n",
        "  .filter(ee.Filter.listContains('transmitterReceiverPolarisation', 'VH'))\\\n",
        "  .filter(ee.Filter.eq('instrumentMode', 'IW'))\n",
        "\n",
        "s1f_missouri = s1\\\n",
        "  .filterDate(date_range2_mi)\\\n",
        "  .filterBounds(missouri)\\\n",
        "  .filter(ee.Filter.listContains('transmitterReceiverPolarisation', 'VH'))\\\n",
        "  .filter(ee.Filter.eq('instrumentMode', 'IW'))\n",
        "\n",
        "s1_flood = ee.ImageCollection.fromImages([s1f_houston.first(), s1f_florence.first(), s1f_missouri.first(), s1f_arkansas.first()]).mosaic()\n",
        "\n",
        "vh_flood = mask_by_angle(s1_flood)\n",
        "vv_flood = mask_by_angle_VV(s1_flood)\n",
        "vv_flood = vv_flood.addBands(vh_flood.select('VH'))\n",
        "vv_flood = focal_median(vv_flood)  # has 4 bands: VV, VH, VV_Smooth, VH_Smooth\n",
        "vv_flood = vv_flood.select([\"VV_Smooth\", \"VH_Smooth\"]).rename(['VV-flood','VH-flood'])\n",
        " \n",
        "def radians(img): \n",
        "  return img.toFloat().multiply(3.14159).divide(180)\n",
        "\n",
        "\t\t\n",
        "## IMAGE TO TRAIN\n",
        "import math\n",
        "terrain = ee.Algorithms.Terrain(srtm);\n",
        "slope = radians(terrain.select('slope'))\n",
        "aspect = radians(terrain.select('aspect'))\n",
        "\n",
        "image = vv_flood.addBands(vv_noflood.select('VV-noflood'))\\\n",
        "                .addBands(vv_noflood.select('VH-noflood')) \\\n",
        "                .addBands(srtm.select('elevation').double()) \\\n",
        "                .addBands(slope.select('slope'))\n",
        "                \n",
        "print('final image',image.getInfo())\n",
        "\n",
        "# Use folium to visualize the imagery.\n",
        "mapid = image.getMapId({'bands': ['VH-noflood'], 'min': -30, 'max': 0})\n",
        "map = folium.Map(location=[29.4977, -95.36524])\n",
        "\n",
        "folium.TileLayer(\n",
        "    tiles=mapid['tile_fetcher'].url_format,\n",
        "    attr='Map Data &copy; <a href=\"https://earthengine.google.com/\">Google Earth Engine</a>',\n",
        "    overlay=True,\n",
        "    name='median composite',\n",
        "  ).add_to(map)\n",
        "map.add_child(folium.LayerControl())\n",
        "map"
      ],
      "execution_count": null,
      "outputs": [
        {
          "output_type": "stream",
          "text": [
            "final image {'type': 'Image', 'bands': [{'id': 'VV-flood', 'data_type': {'type': 'PixelType', 'precision': 'double'}, 'crs': 'EPSG:4326', 'crs_transform': [1, 0, 0, 0, 1, 0]}, {'id': 'VH-flood', 'data_type': {'type': 'PixelType', 'precision': 'double'}, 'crs': 'EPSG:4326', 'crs_transform': [1, 0, 0, 0, 1, 0]}, {'id': 'VV-noflood', 'data_type': {'type': 'PixelType', 'precision': 'double'}, 'crs': 'EPSG:4326', 'crs_transform': [1, 0, 0, 0, 1, 0]}, {'id': 'VH-noflood', 'data_type': {'type': 'PixelType', 'precision': 'double'}, 'crs': 'EPSG:4326', 'crs_transform': [1, 0, 0, 0, 1, 0]}, {'id': 'elevation', 'data_type': {'type': 'PixelType', 'precision': 'double'}, 'dimensions': [1296001, 417601], 'crs': 'EPSG:4326', 'crs_transform': [0.0002777777777777778, 0, -180.0001388888889, 0, -0.0002777777777777778, 60.00013888888889]}, {'id': 'slope', 'data_type': {'type': 'PixelType', 'precision': 'double'}, 'crs': 'EPSG:4326', 'crs_transform': [0.0002777777777777778, 0, -180.0001388888889, 0, -0.0002777777777777778, 60.00013888888889]}]}\n"
          ],
          "name": "stdout"
        },
        {
          "output_type": "execute_result",
          "data": {
            "text/html": [
              "<div style=\"width:100%;\"><div style=\"position:relative;width:100%;height:0;padding-bottom:60%;\"><span style=\"color:#565656\">Make this Notebook Trusted to load map: File -> Trust Notebook</span><iframe src=\"about:blank\" style=\"position:absolute;width:100%;height:100%;left:0;top:0;border:none !important;\" data-html=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 onload=\"this.contentDocument.open();this.contentDocument.write(atob(this.getAttribute('data-html')));this.contentDocument.close();\" allowfullscreen webkitallowfullscreen mozallowfullscreen></iframe></div></div>"
            ],
            "text/plain": [
              "<folium.folium.Map at 0x7f01ce0dbcf8>"
            ]
          },
          "metadata": {
            "tags": []
          },
          "execution_count": 6
        }
      ]
    },
    {
      "cell_type": "markdown",
      "metadata": {
        "id": "UEeyPf3zSPct",
        "colab_type": "text"
      },
      "source": [
        "## Add pixel values of the composite to labeled points\n",
        "\n"
      ]
    },
    {
      "cell_type": "code",
      "metadata": {
        "id": "iOedOKyRExHE",
        "colab_type": "code",
        "colab": {
          "base_uri": "https://localhost:8080/",
          "height": 391
        },
        "outputId": "38e2a0c4-3e8b-42c7-c31a-442ec0ffeee4"
      },
      "source": [
        "# Sample the image at the points and add a random column.\n",
        "sample = image.sampleRegions(\n",
        "  collection=LABEL_DATA, properties=[LABEL], scale=30).randomColumn()\n",
        "\n",
        "# Partition the sample approximately 70-30.\n",
        "training = sample.filter(ee.Filter.lt('random', 0.7))\n",
        "testing = sample.filter(ee.Filter.gte('random', 0.7))\n",
        "\n",
        "\n",
        "# Print the first couple points to verify.\n",
        "pprint({'training': training.first().getInfo()})\n",
        "pprint({'testing': testing.first().getInfo()})"
      ],
      "execution_count": null,
      "outputs": [
        {
          "output_type": "stream",
          "text": [
            "{'training': {'geometry': None,\n",
            "              'id': '00000000000000000000_0',\n",
            "              'properties': {'VH-flood': -24.55511152503506,\n",
            "                             'VH-noflood': -14.345788314165125,\n",
            "                             'VV-flood': -18.204960515813784,\n",
            "                             'VV-noflood': -10.682905025232333,\n",
            "                             'elevation': 4,\n",
            "                             'landuse': 2,\n",
            "                             'random': 0.49494434926312436,\n",
            "                             'slope': 0.017453277777777776},\n",
            "              'type': 'Feature'}}\n",
            "{'testing': {'geometry': None,\n",
            "             'id': '00000000000000000000_4',\n",
            "             'properties': {'VH-flood': -23.590748253475077,\n",
            "                            'VH-noflood': -14.04573219485074,\n",
            "                            'VV-flood': -21.665347648154103,\n",
            "                            'VV-noflood': -7.891223184854573,\n",
            "                            'elevation': 18,\n",
            "                            'landuse': 2,\n",
            "                            'random': 0.8848852449036926,\n",
            "                            'slope': 0.03490655555555555},\n",
            "             'type': 'Feature'}}\n"
          ],
          "name": "stdout"
        }
      ]
    },
    {
      "cell_type": "markdown",
      "metadata": {
        "id": "uNc7a2nRR4MI",
        "colab_type": "text"
      },
      "source": [
        "## Export the training and testing data\n",
        "\n"
      ]
    },
    {
      "cell_type": "code",
      "metadata": {
        "id": "Pb-aPvQc0Xvp",
        "colab_type": "code",
        "colab": {
          "base_uri": "https://localhost:8080/",
          "height": 34
        },
        "outputId": "ff94c776-a099-4115-f4f9-4a2c3fa2780c"
      },
      "source": [
        "# Make sure you can see the output bucket.  You must have write access.\n",
        "print('Found Cloud Storage bucket.' if tf.io.gfile.exists('gs://' + OUTPUT_BUCKET) \n",
        "    else 'Can not find output Cloud Storage bucket.')"
      ],
      "execution_count": null,
      "outputs": [
        {
          "output_type": "stream",
          "text": [
            "Found Cloud Storage bucket.\n"
          ],
          "name": "stdout"
        }
      ]
    },
    {
      "cell_type": "code",
      "metadata": {
        "id": "TfVNQzg8R6Wy",
        "colab_type": "code",
        "colab": {}
      },
      "source": [
        "# Create the tasks.\n",
        "training_task = ee.batch.Export.table.toCloudStorage(\n",
        "  collection=training,\n",
        "  description='Training Export',\n",
        "  fileNamePrefix=TRAIN_FILE_PREFIX,\n",
        "  bucket=OUTPUT_BUCKET,\n",
        "  fileFormat='TFRecord',\n",
        "  selectors=FEATURE_NAMES)\n",
        "\n",
        "testing_task = ee.batch.Export.table.toCloudStorage(\n",
        "  collection=testing,\n",
        "  description='Testing Export',\n",
        "  fileNamePrefix=TEST_FILE_PREFIX,\n",
        "  bucket=OUTPUT_BUCKET,\n",
        "  fileFormat='TFRecord',\n",
        "  selectors=FEATURE_NAMES)"
      ],
      "execution_count": null,
      "outputs": []
    },
    {
      "cell_type": "code",
      "metadata": {
        "id": "QF4WGIekaS2s",
        "colab_type": "code",
        "colab": {}
      },
      "source": [
        "# Start the tasks.\n",
        "training_task.start()\n",
        "testing_task.start()"
      ],
      "execution_count": null,
      "outputs": []
    },
    {
      "cell_type": "markdown",
      "metadata": {
        "id": "q7nFLuySISeC",
        "colab_type": "text"
      },
      "source": [
        "### Monitor task progress\n"
      ]
    },
    {
      "cell_type": "code",
      "metadata": {
        "id": "oEWvS5ekcEq0",
        "colab_type": "code",
        "colab": {
          "base_uri": "https://localhost:8080/",
          "height": 1000
        },
        "outputId": "5d6391b0-3208-48e6-8dfd-09ad32deb78e"
      },
      "source": [
        "# Print all tasks.\n",
        "pprint(ee.batch.Task.list())"
      ],
      "execution_count": null,
      "outputs": [
        {
          "output_type": "stream",
          "text": [
            "[<Task INGEST_IMAGE: Ingest image: \"projects/earthengine-legacy/assets/users/shahryarahmad/Classified_pixel_laos_withdemRe\" (COMPLETED)>,\n",
            " <Task INGEST_IMAGE: Ingest image: \"projects/earthengine-legacy/assets/users/shahryarahmad/Classified_pixel_laos_Re\" (COMPLETED)>,\n",
            " <Task INGEST_IMAGE: Ingest image: \"projects/earthengine-legacy/assets/users/shahryarahmad/Classified_pixel_laos_Re\" (FAILED)>,\n",
            " <Task INGEST_IMAGE: Ingest image: \"projects/earthengine-legacy/assets/users/shahryarahmad/Classified_pixel_laos_Re\" (FAILED)>,\n",
            " <Task INGEST_IMAGE: Ingest image: \"projects/earthengine-legacy/assets/users/shahryarahmad/Classified_pixel_laos_withdemRe\" (FAILED)>,\n",
            " <Task INGEST_IMAGE: Ingest image: \"projects/earthengine-legacy/assets/users/shahryarahmad/Classified_pixel_laos_withdemRe\" (FAILED)>,\n",
            " <Task EXPORT_IMAGE: Image Export (COMPLETED)>,\n",
            " <Task EXPORT_IMAGE: Image Export (COMPLETED)>,\n",
            " <Task INGEST_IMAGE: Ingest image: \"projects/earthengine-legacy/assets/users/shahryarahmad/Classified_pixel_laos_withdem\" (COMPLETED)>,\n",
            " <Task INGEST_IMAGE: Ingest image: \"projects/earthengine-legacy/assets/users/shahryarahmad/Classified_pixel_laos_withdem\" (FAILED)>,\n",
            " <Task INGEST_IMAGE: Ingest image: \"projects/earthengine-legacy/assets/users/shahryarahmad/Classified_pixel_laos\" (COMPLETED)>,\n",
            " <Task EXPORT_IMAGE: Image Export (COMPLETED)>,\n",
            " <Task EXPORT_IMAGE: Image Export (COMPLETED)>,\n",
            " <Task EXPORT_IMAGE: myExportImageTask (COMPLETED)>,\n",
            " <Task EXPORT_IMAGE: myExportImageTask (COMPLETED)>,\n",
            " <Task EXPORT_IMAGE: myExportImageTask (COMPLETED)>,\n",
            " <Task EXPORT_IMAGE: myExportImageTask (COMPLETED)>,\n",
            " <Task INGEST_IMAGE: Ingest image: \"projects/earthengine-legacy/assets/users/shahryarahmad/Classified_pixel_uruguay_withdem\" (COMPLETED)>,\n",
            " <Task INGEST_IMAGE: Ingest image: \"projects/earthengine-legacy/assets/users/shahryarahmad/Classified_pixel_uruguay_withdem\" (FAILED)>,\n",
            " <Task INGEST_IMAGE: Ingest image: \"projects/earthengine-legacy/assets/users/shahryarahmad/Classified_pixel_uruguay_withdem\" (FAILED)>,\n",
            " <Task EXPORT_IMAGE: Image Export (COMPLETED)>,\n",
            " <Task EXPORT_IMAGE: Image Export (COMPLETED)>,\n",
            " <Task INGEST_IMAGE: Ingest image: \"projects/earthengine-legacy/assets/users/shahryarahmad/Classified_pixel_uruguay_withtrain\" (FAILED)>,\n",
            " <Task INGEST_IMAGE: Ingest image: \"projects/earthengine-legacy/assets/users/shahryarahmad/Classified_pixel_uruguay_withtrain\" (COMPLETED)>,\n",
            " <Task INGEST_IMAGE: Ingest image: \"projects/earthengine-legacy/assets/users/shahryarahmad/Classified_pixel_uruguay_withtrain\" (FAILED)>,\n",
            " <Task INGEST_IMAGE: Ingest image: \"projects/earthengine-legacy/assets/users/shahryarahmad/Classified_pixel_uruguay_withtrain\" (FAILED)>,\n",
            " <Task INGEST_IMAGE: Ingest image: \"projects/earthengine-legacy/assets/users/shahryarahmad/Classified_pixel_uruguay_withtrain\" (FAILED)>,\n",
            " <Task INGEST_IMAGE: Ingest image: \"projects/earthengine-legacy/assets/users/shahryarahmad/Classified_pixel_uruguay_withtrain\" (FAILED)>,\n",
            " <Task EXPORT_IMAGE: Image Export (COMPLETED)>,\n",
            " <Task EXPORT_IMAGE: myExportImageTask (COMPLETED)>,\n",
            " <Task EXPORT_IMAGE: myExportImageTask (COMPLETED)>,\n",
            " <Task INGEST_IMAGE: Ingest image: \"projects/earthengine-legacy/assets/users/shahryarahmad/Classified_pixel_periyarBig_withtrain\" (COMPLETED)>,\n",
            " <Task EXPORT_IMAGE: myExportImageTask (COMPLETED)>,\n",
            " <Task EXPORT_IMAGE: myExportImageTask (FAILED)>,\n",
            " <Task EXPORT_FEATURES: Testing Export (COMPLETED)>,\n",
            " <Task EXPORT_FEATURES: Training Export (COMPLETED)>,\n",
            " <Task EXPORT_IMAGE: myExportImageTask (COMPLETED)>,\n",
            " <Task EXPORT_IMAGE: myExportImageTask (COMPLETED)>,\n",
            " <Task EXPORT_FEATURES: labeldata_to_asset (COMPLETED)>,\n",
            " <Task INGEST_IMAGE: Ingest image: \"projects/earthengine-legacy/assets/users/shahryarahmad/Classified_pixel_periyarBig_withtrain\" (COMPLETED)>,\n",
            " <Task EXPORT_FEATURES: Testing Export (COMPLETED)>,\n",
            " <Task EXPORT_FEATURES: Training Export (COMPLETED)>,\n",
            " <Task INGEST_IMAGE: Ingest image: \"projects/earthengine-legacy/assets/users/shahryarahmad/Classified_pixel_withtrainperiyarBig\" (COMPLETED)>,\n",
            " <Task INGEST_IMAGE: Ingest image: \"projects/earthengine-legacy/assets/users/shahryarahmad/Classified_pixel_periyarBig_withdem\" (COMPLETED)>,\n",
            " <Task EXPORT_IMAGE: Image Export (COMPLETED)>,\n",
            " <Task EXPORT_IMAGE: Image Export (COMPLETED)>,\n",
            " <Task EXPORT_IMAGE: Image Export (COMPLETED)>,\n",
            " <Task EXPORT_IMAGE: Image Export (COMPLETED)>,\n",
            " <Task EXPORT_IMAGE: myExportImageTask (COMPLETED)>,\n",
            " <Task EXPORT_IMAGE: myExportImageTask (COMPLETED)>,\n",
            " <Task EXPORT_IMAGE: myExportImageTask (COMPLETED)>,\n",
            " <Task INGEST_IMAGE: Ingest image: \"projects/earthengine-legacy/assets/users/shahryarahmad/Classified_pixel_withtrainperiyar2\" (COMPLETED)>,\n",
            " <Task EXPORT_FEATURES: Testing Export (COMPLETED)>,\n",
            " <Task EXPORT_FEATURES: Training Export (COMPLETED)>,\n",
            " <Task EXPORT_FEATURES: labeldata_to_asset (COMPLETED)>,\n",
            " <Task INGEST_IMAGE: Ingest image: \"projects/earthengine-legacy/assets/users/shahryarahmad/Classified_pixel_periyar2_withdem\" (COMPLETED)>,\n",
            " <Task INGEST_IMAGE: Ingest image: \"projects/earthengine-legacy/assets/users/shahryarahmad/Classified_pixel_mozam_withdem1\" (COMPLETED)>,\n",
            " <Task INGEST_IMAGE: Ingest image: \"projects/earthengine-legacy/assets/users/shahryarahmad/Classified_pixel_mozam_withdem\" (COMPLETED)>,\n",
            " <Task EXPORT_IMAGE: Image Export (COMPLETED)>,\n",
            " <Task EXPORT_FEATURES: Testing Export (COMPLETED)>,\n",
            " <Task EXPORT_FEATURES: Training Export (COMPLETED)>,\n",
            " <Task INGEST_IMAGE: Ingest image: \"projects/earthengine-legacy/assets/users/shahryarahmad/Classified_pixel_withtrainmozam\" (COMPLETED)>,\n",
            " <Task EXPORT_IMAGE: Image Export (COMPLETED)>,\n",
            " <Task EXPORT_FEATURES: Testing Export (COMPLETED)>,\n",
            " <Task EXPORT_FEATURES: Training Export (COMPLETED)>,\n",
            " <Task EXPORT_FEATURES: labeldata_to_asset (COMPLETED)>,\n",
            " <Task EXPORT_FEATURES: Training Export (COMPLETED)>,\n",
            " <Task INGEST_IMAGE: Ingest image: \"projects/earthengine-legacy/assets/users/shahryarahmad/Classified_pixel_nsw_withdem\" (COMPLETED)>,\n",
            " <Task EXPORT_IMAGE: Image Export (COMPLETED)>,\n",
            " <Task INGEST_IMAGE: Ingest image: \"projects/earthengine-legacy/assets/users/shahryarahmad/Classified_pixel_nsw_withdem\" (FAILED)>,\n",
            " <Task INGEST_IMAGE: Ingest image: \"projects/earthengine-legacy/assets/users/shahryarahmad/Classified_pixel_nsw_withdem\" (FAILED)>]\n"
          ],
          "name": "stdout"
        }
      ]
    },
    {
      "cell_type": "markdown",
      "metadata": {
        "id": "43-c0JNFI_m6",
        "colab_type": "text"
      },
      "source": [
        "### Check existence of the exported files\n",
        "\n"
      ]
    },
    {
      "cell_type": "code",
      "metadata": {
        "id": "YDZfNl6yc0Kj",
        "colab_type": "code",
        "colab": {
          "base_uri": "https://localhost:8080/",
          "height": 51
        },
        "outputId": "6412bf95-385f-4c62-d45c-a1ddb3c1cb47"
      },
      "source": [
        "print('Found training file.' if tf.io.gfile.exists(TRAIN_FILE_PATH) \n",
        "    else 'No training file found.')\n",
        "print('Found testing file.' if tf.io.gfile.exists(TEST_FILE_PATH) \n",
        "    else 'No testing file found.')"
      ],
      "execution_count": null,
      "outputs": [
        {
          "output_type": "stream",
          "text": [
            "Found training file.\n",
            "Found testing file.\n"
          ],
          "name": "stdout"
        }
      ]
    },
    {
      "cell_type": "markdown",
      "metadata": {
        "id": "NA8QA8oQVo8V",
        "colab_type": "text"
      },
      "source": [
        "## Export the imagery to classify\n",
        "\n"
      ]
    },
    {
      "cell_type": "code",
      "metadata": {
        "id": "J4vgaZRnm71d",
        "colab_type": "code",
        "colab": {
          "base_uri": "https://localhost:8080/",
          "height": 691
        },
        "outputId": "ff7d9dc9-9e26-43e3-c19c-d4a481023661"
      },
      "source": [
        "# File name for the prediction (image) dataset.  The trained model will read\n",
        "# this dataset and make predictions in each pixel.\n",
        "\n",
        "## Specify events for testing \n",
        "kerala =   ee.Geometry.Point([76.19201793332346, 10.432244570388278])\n",
        "mozam =   ee.Geometry.Point([34.53572525279313, -19.650222084488128])\n",
        "srilanka =   ee.Geometry.Point([80.19579864227894,6.100260555152524])\n",
        "nsw = ee.Geometry.Point([147.97393175933806, -33.3861002551131])\n",
        "ls =  ee.Geometry.Point([106.7087175776598, 14.869266407333143])\n",
        "\n",
        "# ID of event for exporting \n",
        "floodID = 'nebraska'  #\n",
        "IMAGE_FILE_PREFIX = 'Image_pixel_'  + floodID + '_'\n",
        "\n",
        "# The output path for the classified image (i.e. predictions) TFRecord file.\n",
        "OUTPUT_IMAGE_FILE = 'gs://' + OUTPUT_BUCKET + '/Classified_pixel_' + floodID + '.TFRecord'\n",
        "\n",
        "# The name of the Earth Engine asset to be created by importing\n",
        "# the classified image from the TFRecord file in Cloud Storage.\n",
        "OUTPUT_ASSET_ID = 'users/' + USER_NAME + '/Classified_pixel_' + floodID +'_withdem'\n",
        "\n",
        "\n",
        "# Export imagery in this region.\n",
        "## harvey\n",
        "# EXTENT_TO_CLASSIFY = ee.Geometry.Polygon(\n",
        "#         [[[-96.47401392967757, 29.681041119196202],\n",
        "#           [-96.47401392967757, 29.164301460271606],\n",
        "#           [-95.02381861717757, 29.164301460271606],\n",
        "#           [-95.02381861717757, 29.681041119196202]]]);    \n",
        "\n",
        "## eg 2. florence\n",
        "# EXTENT_TO_CLASSIFY = ee.Geometry.Polygon(\n",
        "#         [[[-78.67341578514632, 34.712405817452094],\n",
        "#           [-78.67341578514632, 34.134681521103936],\n",
        "#           [-77.7986294081932, 34.134681521103936],\n",
        "#           [-77.7986294081932, 34.712405817452094]]]);\n",
        "\n",
        "# eg 3. extent_missouri\n",
        "# EXTENT_TO_CLASSIFY = ee.Geometry.Polygon(\n",
        "#         [[[-98.7765771200875, 41.479444734972475],\n",
        "#           [-98.7765771200875, 40.965048314605184],\n",
        "#           [-97.29616940524375, 40.965048314605184],\n",
        "#           [-97.29616940524375, 41.479444734972475]]]);\n",
        "\n",
        "## eg 4. extent_arkansas\n",
        "# EXTENT_TO_CLASSIFY = ee.Geometry.Polygon(\n",
        "#         [[[-94.18336451561507, 35.52342267961415],\n",
        "#           [-94.18336451561507, 35.04812504434383],\n",
        "#           [-92.52168238670882, 35.04812504434383],\n",
        "#           [-92.52168238670882, 35.52342267961415]]]);\n",
        "\n",
        "# ## eg 5. extent_kerala\n",
        "# EXTENT_TO_CLASSIFY = ee.Geometry.Polygon(\n",
        "#         [[[76.16033503714692, 10.507022269292058],\n",
        "#           [76.16033503714692, 10.16792189672564],\n",
        "#           [76.39860102835786, 10.16792189672564],\n",
        "#           [76.39860102835786, 10.507022269292058]]])\n",
        "\n",
        "## eg 5. extent_keralabig\n",
        "# EXTENT_TO_CLASSIFY =  ee.Geometry.Polygon(\n",
        "#         [[[76.12188288870942, 10.507022269292058],\n",
        "#           [76.12188288870942, 10.019197933519012],\n",
        "#           [76.40684077445161, 10.019197933519012],\n",
        "#           [76.40684077445161, 10.507022269292058]]])\n",
        "\n",
        "## eg 6. extent_mozam\n",
        "# EXTENT_TO_CLASSIFY = ee.Geometry.Polygon(\n",
        "#         [[[34.20765164882542, -19.55762825258411],\n",
        "#           [34.20765164882542, -20.23169905138531],\n",
        "#           [34.74872830898167, -20.23169905138531],\n",
        "#           [34.74872830898167, -19.55762825258411]]])\n",
        "\n",
        "\n",
        "## eg 7. extent_sl\n",
        "# EXTENT_TO_CLASSIFY = ee.Geometry.Polygon(\n",
        "#         [[[80.15206589484337, 6.1372608569348674],\n",
        "#           [80.15206589484337, 6.047135541681527],\n",
        "#           [80.26810898566369, 6.047135541681527],\n",
        "#           [80.26810898566369, 6.1372608569348674]]])\n",
        "\n",
        "## eg . extent_ns\n",
        "# EXTENT_TO_CLASSIFY = ee.Geometry.Polygon(\n",
        "#         [[[147.74177168252993, -33.27416512270075],\n",
        "#           [147.74177168252993, -33.575837125375116],\n",
        "#           [148.24987862947512, -33.575837125375116],\n",
        "#           [148.24987862947512, -33.27416512270075]]])\n",
        "\n",
        "\n",
        "## eg . extent_ur\n",
        "# EXTENT_TO_CLASSIFY = ee.Geometry.Polygon(\n",
        "#         [[[-58.22185802449711, -31.253794836847117],\n",
        "#           [-58.22185802449711, -31.607886792184388],\n",
        "#           [-57.80423541905268, -31.607886792184388],\n",
        "#           [-57.80423541905268, -31.253794836847117]]])\n",
        "# ur = ee.Geometry.Point([-58.024852474945625, -31.43463428309628])\n",
        "\n",
        "# extent_ls \n",
        "# EXTENT_TO_CLASSIFY=  ee.Geometry.Polygon(\n",
        "#         [[[106.36773892289094, 15.361705008559696],\n",
        "#           [106.36773892289094, 14.543123762883898],\n",
        "#           [107.12038823014191, 14.543123762883898],\n",
        "#           [107.12038823014191, 15.361705008559696]]]);\n",
        "\n",
        "sn = ee.Geometry.Point([-97.205985, 42.791281])\n",
        "# extent_sn\n",
        "EXTENT_TO_CLASSIFY =    ee.Geometry.Polygon(\n",
        "        [[[-97.56520653959635, 43.10070218967456],\n",
        "          [-97.56520653959635, 42.64280371531401],\n",
        "          [-96.47685731645944, 42.64280371531401],\n",
        "          [-96.47685731645944, 43.10070218967456]]]);\n",
        "\n",
        "# eg 12. nebraska\n",
        "date_range_sn = ee.DateRange('2018-11-10','2018-11-20');\n",
        "date_range2_sn = ee.DateRange('2019-03-16','2019-03-20');\n",
        "\n",
        "\n",
        "#eg 12. ls\n",
        "# date_range_ls = ee.DateRange('2017-05-18','2017-05-20');\n",
        "# date_range2_ls = ee.DateRange('2018-07-24','2018-07-26');\n",
        "\n",
        "\n",
        "\n",
        "#eg 9. ns\n",
        "# date_range_ns = ee.DateRange('2016-08-01','2016-08-15');\n",
        "# date_range2_ns = ee.DateRange('2016-09-27','2016-09-28');\n",
        "\n",
        "# eg 7. sl\n",
        "# date_range_sl = ee.DateRange('2017-01-10','2017-01-25');\n",
        "# date_range2_sl = ee.DateRange('2017-05-28','2017-05-31');\n",
        "\n",
        "# # eg 6. mozam\n",
        "# date_range_mz = ee.DateRange('2019-03-10','2019-03-15');\n",
        "# date_range2_mz = ee.DateRange('2019-03-18','2019-03-25');\n",
        "\n",
        "\n",
        "# eg 5. kerala\n",
        "# date_range_kr = ee.DateRange('2018-03-01','2018-03-20');\n",
        "# date_range2_kr = ee.DateRange('2019-08-05','2019-08-12');\n",
        "\n",
        "# eg 4. arkansas\n",
        "# date_range = ee.DateRange('2019-01-01','2019-01-20');\n",
        "# date_range2 = ee.DateRange('2019-05-25','2019-05-30');\n",
        "\n",
        "# eg 3. missouri\n",
        "# var date_range = ee.DateRange('2019-08-01','2019-08-20');\n",
        "# var date_range2 = ee.DateRange('2019-03-13','2019-03-25');\n",
        "\n",
        "# eg 2. florence\n",
        "# date_range = ee.DateRange('2018-08-07','2018-08-20');\n",
        "# date_range2 = ee.DateRange('2018-09-17','2018-09-29');\n",
        "\n",
        "\n",
        "S1 = s1\\\n",
        "\t\t  .filterDate(date_range_sn)\\\n",
        "\t\t  .filterBounds(sn)\\\n",
        "\t\t  .filter(ee.Filter.listContains('transmitterReceiverPolarisation', 'VH'))\\\n",
        "\t\t  .filter(ee.Filter.eq('instrumentMode', 'IW')).first()\n",
        "\n",
        "vh_noflood = mask_by_angle(S1)\n",
        "vv_noflood = mask_by_angle_VV(S1)\n",
        "vv_noflood = vv_noflood.addBands(vh_noflood.select('VH'))\n",
        "vv_noflood = focal_median(vv_noflood)  # has 4 bands: VV, VH, VV_Smooth, VH_Smooth\n",
        "vv_noflood = vv_noflood.select([\"VV_Smooth\", \"VH_Smooth\"]).rename(['VV-noflood','VH-noflood'])\n",
        " \n",
        "\n",
        "S1 = s1\\\n",
        "\t\t  .filterDate(date_range2_sn)\\\n",
        "\t\t  .filterBounds(sn)\\\n",
        "\t\t  .filter(ee.Filter.listContains('transmitterReceiverPolarisation', 'VH'))\\\n",
        "\t\t  .filter(ee.Filter.eq('instrumentMode', 'IW')).first()\n",
        "\n",
        "vh_flood = mask_by_angle(S1)\n",
        "vv_flood = mask_by_angle_VV(S1)\n",
        "vv_flood = vv_flood.addBands(vh_flood.select('VH'))\n",
        "vv_flood = focal_median(vv_flood)  # has 4 bands: VV, VH, VV_Smooth, VH_Smooth\n",
        "vv_flood = vv_flood.select([\"VV_Smooth\", \"VH_Smooth\"]).rename(['VV-flood','VH-flood']) \n",
        "\n",
        "## IMAGE TO CLASSIFY DURING TESTING\n",
        "import math\n",
        "terrain = ee.Algorithms.Terrain(srtm);\n",
        "slope = radians(terrain.select('slope'))\n",
        "aspect = radians(terrain.select('aspect'))\n",
        "\n",
        "image_to_classify = vv_flood.addBands(vv_noflood.select('VV-noflood')) \\\n",
        "                .addBands(vv_noflood.select('VH-noflood')) \\\n",
        "                .addBands(srtm.select('elevation').double()) \\\n",
        "                .addBands(slope.select('slope'))\n",
        "\n",
        "print(image_to_classify.getInfo())\n",
        "# Use folium to visualize the imagery.\n",
        "mapid = image_to_classify.getMapId({'bands': ['VH-flood'], 'min': -30, 'max': 0})\n",
        "map = folium.Map(location=[42.791281,-97.205985])\n",
        "\n",
        "folium.TileLayer(\n",
        "    tiles=mapid['tile_fetcher'].url_format,\n",
        "    attr='Map Data &copy; <a href=\"https://earthengine.google.com/\">Google Earth Engine</a>',\n",
        "    overlay=True,\n",
        "    name='median composite',\n",
        "  ).add_to(map)\n",
        "map.add_child(folium.LayerControl())\n",
        "map"
      ],
      "execution_count": null,
      "outputs": [
        {
          "output_type": "stream",
          "text": [
            "{'type': 'Image', 'bands': [{'id': 'VV-flood', 'data_type': {'type': 'PixelType', 'precision': 'double'}, 'dimensions': [29624, 24486], 'crs': 'EPSG:32614', 'crs_transform': [10, 0, 522608.0336693602, 0, -10, 4932612.262261056]}, {'id': 'VH-flood', 'data_type': {'type': 'PixelType', 'precision': 'double'}, 'dimensions': [29624, 24486], 'crs': 'EPSG:32614', 'crs_transform': [10, 0, 522608.0336693602, 0, -10, 4932612.262261056]}, {'id': 'VV-noflood', 'data_type': {'type': 'PixelType', 'precision': 'double'}, 'dimensions': [29627, 24480], 'crs': 'EPSG:32614', 'crs_transform': [10, 0, 522461.08322153386, 0, -10, 4932634.088989057]}, {'id': 'VH-noflood', 'data_type': {'type': 'PixelType', 'precision': 'double'}, 'dimensions': [29627, 24480], 'crs': 'EPSG:32614', 'crs_transform': [10, 0, 522461.08322153386, 0, -10, 4932634.088989057]}, {'id': 'elevation', 'data_type': {'type': 'PixelType', 'precision': 'double'}, 'dimensions': [1296001, 417601], 'crs': 'EPSG:4326', 'crs_transform': [0.0002777777777777778, 0, -180.0001388888889, 0, -0.0002777777777777778, 60.00013888888889]}, {'id': 'slope', 'data_type': {'type': 'PixelType', 'precision': 'double'}, 'crs': 'EPSG:4326', 'crs_transform': [0.0002777777777777778, 0, -180.0001388888889, 0, -0.0002777777777777778, 60.00013888888889]}], 'id': 'COPERNICUS/S1_GRD/S1B_IW_GRDH_1SDV_20190317T002127_20190317T002156_015387_01CD01_01DD', 'version': 1597238155668314, 'properties': {'GRD_Post_Processing_start': 1552812272280, 'sliceNumber': 1, 'GRD_Post_Processing_facility_name': 'Copernicus S1 Core Ground Segment - DPA', 'resolution': 'H', 'SLC_Processing_facility_name': 'Copernicus S1 Core Ground Segment - DPA', 'system:footprint': {'type': 'LinearRing', 'coordinates': [[-95.33098644115474, 43.19766852831289], [-95.33990780649854, 43.23982153973089], [-95.44856123245214, 43.74509958485919], [-95.50318072180296, 43.996350006213554], [-95.60827332173032, 44.47066799897039], [-96.40366078013042, 44.37973761031795], [-97.17151193038654, 44.28638080701181], [-98.71107123724151, 44.082600825017245], [-98.65443823001263, 43.870702860836246], [-98.40144534263123, 42.922931545669876], [-98.33716391613414, 42.67781155697833], [-98.29185386575774, 42.50814345096938], [-98.26666542782496, 42.413693126418565], [-98.2575714957335, 42.38094225915753], [-98.2461713930402, 42.34125009962798], [-97.22432012598325, 42.48238630159329], [-96.18322334815747, 42.68148562776738], [-95.25954778643732, 42.85066719636004], [-95.33098644115474, 43.19766852831289]]}, 'familyName': 'SENTINEL-1', 'segmentStartTime': 1552782087350, 'missionDataTakeID': 118017, 'GRD_Post_Processing_facility_country': 'Germany', 'nssdcIdentifier': '2016-025A', 'productClass': 'S', 'phaseIdentifier': 1, 'orbitProperties_pass': 'ASCENDING', 'relativeOrbitNumber_stop': 136, 'system:time_end': 1552782087000, 'SLC_Processing_facility_site': 'DLR-Oberpfaffenhofen', 'GRD_Post_Processing_stop': 1552812965000, 'system:time_start': 1552782087000, 'instrumentMode': 'IW', 'totalSlices': 18, 'SLC_Processing_stop': 1552812718000, 'startTimeANX': 690014.1, 'SLC_Processing_start': 1552812393000, 'resolution_meters': 10, 'instrumentSwath': 'IW', 'relativeOrbitNumber_start': 136, 'productTimelinessCategory': 'Fast-24h', 'SLC_Processing_software_name': 'Sentinel-1 IPF', 'sliceProductFlag': 'true', 'S1TBX_Calibration_vers': '6.0.4', 'orbitNumber_start': 15387, 'GRD_Post_Processing_facility_site': 'DLR-Oberpfaffenhofen', 'instrument': 'Synthetic Aperture Radar', 'GRD_Post_Processing_software_name': 'Sentinel-1 IPF', 'platform_number': 'B', 'S1TBX_SAR_Processing_vers': '6.0.4', 'productType': 'GRD', 'orbitProperties_ascendingNodeTime': 1552781397000, 'stopTimeANX': 719054.8, 'productComposition': 'Slice', 'productClassDescription': 'SAR Standard L1 Product', 'GRD_Post_Processing_software_version': '002.91', 'SLC_Processing_software_version': '002.91', 'orbitNumber_stop': 15387, 'instrumentConfigurationID': 1, 'system:asset_size': 4562240278, 'cycleNumber': 94, 'system:index': 'S1B_IW_GRDH_1SDV_20190317T002127_20190317T002156_015387_01CD01_01DD', 'SNAP_Graph_Processing_Framework_GPF_vers': '6.0.4', 'SLC_Processing_facility_org': 'ESA', 'SLC_Processing_facility_country': 'Germany', 'GRD_Post_Processing_facility_org': 'ESA', 'transmitterReceiverPolarisation': ['VV', 'VH']}}\n"
          ],
          "name": "stdout"
        },
        {
          "output_type": "execute_result",
          "data": {
            "text/html": [
              "<div style=\"width:100%;\"><div style=\"position:relative;width:100%;height:0;padding-bottom:60%;\"><span style=\"color:#565656\">Make this Notebook Trusted to load map: File -> Trust Notebook</span><iframe src=\"about:blank\" style=\"position:absolute;width:100%;height:100%;left:0;top:0;border:none !important;\" data-html=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 onload=\"this.contentDocument.open();this.contentDocument.write(atob(this.getAttribute('data-html')));this.contentDocument.close();\" allowfullscreen webkitallowfullscreen mozallowfullscreen></iframe></div></div>"
            ],
            "text/plain": [
              "<folium.folium.Map at 0x7f0199f0a0f0>"
            ]
          },
          "metadata": {
            "tags": []
          },
          "execution_count": 8
        }
      ]
    },
    {
      "cell_type": "code",
      "metadata": {
        "id": "tVNhJYacVpEw",
        "colab_type": "code",
        "colab": {}
      },
      "source": [
        "# Specify patch and file dimensions.\n",
        "image_export_options = {\n",
        "  'patchDimensions': [256, 256],\n",
        "  'maxFileSize': 104857600,\n",
        "  'compressed': True\n",
        "}\n",
        "\n",
        "# Setup the task.\n",
        "\n",
        "image_task = ee.batch.Export.image.toCloudStorage(\n",
        "  image=image_to_classify,\n",
        "  description='Image Export',\n",
        "  fileNamePrefix=IMAGE_FILE_PREFIX,\n",
        "  bucket=OUTPUT_BUCKET,\n",
        "  scale=30,\n",
        "  fileFormat='TFRecord',\n",
        "  region=EXTENT_TO_CLASSIFY.toGeoJSON()['coordinates'],\n",
        "  formatOptions=image_export_options,\n",
        ")"
      ],
      "execution_count": null,
      "outputs": []
    },
    {
      "cell_type": "code",
      "metadata": {
        "id": "6SweCkHDaNE3",
        "colab_type": "code",
        "colab": {}
      },
      "source": [
        "# Start the task.\n",
        "image_task.start()"
      ],
      "execution_count": null,
      "outputs": []
    },
    {
      "cell_type": "markdown",
      "metadata": {
        "id": "JC8C53MRTG_E",
        "colab_type": "text"
      },
      "source": [
        "### Monitor task progress"
      ]
    },
    {
      "cell_type": "code",
      "metadata": {
        "id": "rKZeZswloP11",
        "colab_type": "code",
        "colab": {
          "base_uri": "https://localhost:8080/",
          "height": 224
        },
        "outputId": "267c4f6a-abd2-4052-eee3-2ed4af827719"
      },
      "source": [
        "import time\n",
        "\n",
        "while image_task.active():\n",
        "  print('Polling for task (id: {}).'.format(image_task.id))\n",
        "  print(image_task.status())\n",
        "  time.sleep(30)\n",
        "print('Done with image export.')"
      ],
      "execution_count": null,
      "outputs": [
        {
          "output_type": "stream",
          "text": [
            "Polling for task (id: VZRRY3B4OTZI3XJ7JFZUUHM3).\n",
            "{'state': 'READY', 'description': 'Image Export', 'creation_timestamp_ms': 1597263752120, 'update_timestamp_ms': 1597263752120, 'start_timestamp_ms': 0, 'task_type': 'EXPORT_IMAGE', 'id': 'VZRRY3B4OTZI3XJ7JFZUUHM3', 'name': 'projects/earthengine-legacy/operations/VZRRY3B4OTZI3XJ7JFZUUHM3'}\n",
            "Polling for task (id: VZRRY3B4OTZI3XJ7JFZUUHM3).\n",
            "{'state': 'RUNNING', 'description': 'Image Export', 'creation_timestamp_ms': 1597263752120, 'update_timestamp_ms': 1597263767276, 'start_timestamp_ms': 1597263767133, 'task_type': 'EXPORT_IMAGE', 'id': 'VZRRY3B4OTZI3XJ7JFZUUHM3', 'name': 'projects/earthengine-legacy/operations/VZRRY3B4OTZI3XJ7JFZUUHM3'}\n",
            "Polling for task (id: VZRRY3B4OTZI3XJ7JFZUUHM3).\n",
            "{'state': 'RUNNING', 'description': 'Image Export', 'creation_timestamp_ms': 1597263752120, 'update_timestamp_ms': 1597263767276, 'start_timestamp_ms': 1597263767133, 'task_type': 'EXPORT_IMAGE', 'id': 'VZRRY3B4OTZI3XJ7JFZUUHM3', 'name': 'projects/earthengine-legacy/operations/VZRRY3B4OTZI3XJ7JFZUUHM3'}\n",
            "Polling for task (id: VZRRY3B4OTZI3XJ7JFZUUHM3).\n",
            "{'state': 'RUNNING', 'description': 'Image Export', 'creation_timestamp_ms': 1597263752120, 'update_timestamp_ms': 1597263767276, 'start_timestamp_ms': 1597263767133, 'task_type': 'EXPORT_IMAGE', 'id': 'VZRRY3B4OTZI3XJ7JFZUUHM3', 'name': 'projects/earthengine-legacy/operations/VZRRY3B4OTZI3XJ7JFZUUHM3'}\n",
            "Polling for task (id: VZRRY3B4OTZI3XJ7JFZUUHM3).\n",
            "{'state': 'RUNNING', 'description': 'Image Export', 'creation_timestamp_ms': 1597263752120, 'update_timestamp_ms': 1597263767276, 'start_timestamp_ms': 1597263767133, 'task_type': 'EXPORT_IMAGE', 'id': 'VZRRY3B4OTZI3XJ7JFZUUHM3', 'name': 'projects/earthengine-legacy/operations/VZRRY3B4OTZI3XJ7JFZUUHM3'}\n",
            "Done with image export.\n"
          ],
          "name": "stdout"
        }
      ]
    },
    {
      "cell_type": "markdown",
      "metadata": {
        "id": "9vWdH_wlZCEk",
        "colab_type": "text"
      },
      "source": [
        "# Data preparation and pre-processing\n",
        "\n",
        "Read data from the TFRecord file into a `tf.data.Dataset`.  Pre-process the dataset to get it into a suitable format for input to the model."
      ]
    },
    {
      "cell_type": "markdown",
      "metadata": {
        "id": "LS4jGTrEfz-1",
        "colab_type": "text"
      },
      "source": [
        "## Read into a `tf.data.Dataset`\n",
        "\n",
        "\n"
      ]
    },
    {
      "cell_type": "code",
      "metadata": {
        "id": "T3PKyDQW8Vpx",
        "colab_type": "code",
        "cellView": "code",
        "colab": {
          "base_uri": "https://localhost:8080/",
          "height": 54
        },
        "outputId": "e5222cda-9b81-480b-e2b2-519faf4cdec7"
      },
      "source": [
        "# Create a dataset from the TFRecord file in Cloud Storage.\n",
        "train_dataset = tf.data.TFRecordDataset(TRAIN_FILE_PATH, compression_type='GZIP')\n",
        "# Print the first record to check.\n",
        "print(iter(train_dataset).next())"
      ],
      "execution_count": null,
      "outputs": [
        {
          "output_type": "stream",
          "text": [
            "tf.Tensor(b'\\n\\x9b\\x01\\n\\x14\\n\\x08VV-flood\\x12\\x08\\x12\\x06\\n\\x04\\xfb\\xf5\\xa7\\xc1\\n\\x14\\n\\x08VH-flood\\x12\\x08\\x12\\x06\\n\\x04\\x91\\xdc\\t\\xc2\\n\\x16\\n\\nVV-noflood\\x12\\x08\\x12\\x06\\n\\x04J3?\\xc1\\n\\x16\\n\\nVH-noflood\\x12\\x08\\x12\\x06\\n\\x046o\\x91\\xc1\\n\\x15\\n\\televation\\x12\\x08\\x12\\x06\\n\\x04\\x00\\x00@@\\n\\x11\\n\\x05slope\\x12\\x08\\x12\\x06\\n\\x04-\\xfa\\x0e=\\n\\x13\\n\\x07landuse\\x12\\x08\\x12\\x06\\n\\x04\\x00\\x00\\x00@', shape=(), dtype=string)\n"
          ],
          "name": "stdout"
        }
      ]
    },
    {
      "cell_type": "markdown",
      "metadata": {
        "id": "BrDYm-ibKR6t",
        "colab_type": "text"
      },
      "source": [
        "## Define the structure of your data\n",
        "\n"
      ]
    },
    {
      "cell_type": "code",
      "metadata": {
        "id": "-6JVQV5HKHMZ",
        "colab_type": "code",
        "cellView": "code",
        "colab": {
          "base_uri": "https://localhost:8080/",
          "height": 136
        },
        "outputId": "2a72750a-7b32-45b6-8602-69b2985d1a13"
      },
      "source": [
        "# List of fixed-length features, all of which are float32.\n",
        "columns = [\n",
        "  tf.io.FixedLenFeature(shape=[1], dtype=tf.float32) for k in FEATURE_NAMES\n",
        "]\n",
        "\n",
        "# Dictionary with names as keys, features as values.\n",
        "features_dict = dict(zip(FEATURE_NAMES, columns))\n",
        "\n",
        "pprint(features_dict)"
      ],
      "execution_count": null,
      "outputs": [
        {
          "output_type": "stream",
          "text": [
            "{'VH-flood': FixedLenFeature(shape=[1], dtype=tf.float32, default_value=None),\n",
            " 'VH-noflood': FixedLenFeature(shape=[1], dtype=tf.float32, default_value=None),\n",
            " 'VV-flood': FixedLenFeature(shape=[1], dtype=tf.float32, default_value=None),\n",
            " 'VV-noflood': FixedLenFeature(shape=[1], dtype=tf.float32, default_value=None),\n",
            " 'elevation': FixedLenFeature(shape=[1], dtype=tf.float32, default_value=None),\n",
            " 'landuse': FixedLenFeature(shape=[1], dtype=tf.float32, default_value=None),\n",
            " 'slope': FixedLenFeature(shape=[1], dtype=tf.float32, default_value=None)}\n"
          ],
          "name": "stdout"
        }
      ]
    },
    {
      "cell_type": "markdown",
      "metadata": {
        "id": "QNfaUPbcjuCO",
        "colab_type": "text"
      },
      "source": [
        "## Parse the dataset\n",
        "\n"
      ]
    },
    {
      "cell_type": "code",
      "metadata": {
        "id": "x2Q0g3fBj2kD",
        "colab_type": "code",
        "cellView": "code",
        "colab": {
          "base_uri": "https://localhost:8080/",
          "height": 136
        },
        "outputId": "9927e692-272a-4dbf-9144-ca75d8e129f5"
      },
      "source": [
        "def parse_tfrecord(example_proto):\n",
        "  \"\"\"The parsing function.\n",
        "\n",
        "  Read a serialized example into the structure defined by featuresDict.\n",
        "\n",
        "  Args:\n",
        "    example_proto: a serialized Example.\n",
        "\n",
        "  Returns:\n",
        "    A tuple of the predictors dictionary and the label, cast to an `int32`.\n",
        "  \"\"\"\n",
        "  parsed_features = tf.io.parse_single_example(example_proto, features_dict)\n",
        "  labels = parsed_features.pop(LABEL)\n",
        "  return parsed_features, tf.cast(labels, tf.int32)\n",
        "\n",
        "# Map the function over the dataset.\n",
        "parsed_dataset = train_dataset.map(parse_tfrecord, num_parallel_calls=5)\n",
        "\n",
        "def to_tuple(inputs, label):\n",
        "  return (tf.transpose(list(inputs.values())),\n",
        "          tf.one_hot(indices=label, depth=N_CLASSES))\n",
        "\n",
        "# Print the first parsed record to check.\n",
        "pprint(iter(parsed_dataset).next())"
      ],
      "execution_count": null,
      "outputs": [
        {
          "output_type": "stream",
          "text": [
            "({'VH-flood': <tf.Tensor: shape=(1,), dtype=float32, numpy=array([-34.465397], dtype=float32)>,\n",
            "  'VH-noflood': <tf.Tensor: shape=(1,), dtype=float32, numpy=array([-18.179302], dtype=float32)>,\n",
            "  'VV-flood': <tf.Tensor: shape=(1,), dtype=float32, numpy=array([-20.995108], dtype=float32)>,\n",
            "  'VV-noflood': <tf.Tensor: shape=(1,), dtype=float32, numpy=array([-11.950022], dtype=float32)>,\n",
            "  'elevation': <tf.Tensor: shape=(1,), dtype=float32, numpy=array([3.], dtype=float32)>,\n",
            "  'slope': <tf.Tensor: shape=(1,), dtype=float32, numpy=array([0.03490655], dtype=float32)>},\n",
            " <tf.Tensor: shape=(1,), dtype=int32, numpy=array([2], dtype=int32)>)\n"
          ],
          "name": "stdout"
        }
      ]
    },
    {
      "cell_type": "markdown",
      "metadata": {
        "id": "nEx1RAXOZQkS",
        "colab_type": "text"
      },
      "source": [
        "# NN Model setup\n",
        "\n",
        "The workflow for classification in TensorFlow is:\n",
        "\n",
        "1.  Create the model.\n",
        "2.  Train the model (i.e. `fit()`).\n",
        "3.  Use the trained model for inference (i.e. `predict()`).\n"
      ]
    },
    {
      "cell_type": "markdown",
      "metadata": {
        "id": "t9pWa54oG-xl",
        "colab_type": "text"
      },
      "source": [
        "## Create the Keras model\n",
        "\n"
      ]
    },
    {
      "cell_type": "code",
      "metadata": {
        "id": "OCZq3VNpG--G",
        "colab_type": "code",
        "cellView": "code",
        "colab": {
          "base_uri": "https://localhost:8080/",
          "height": 477
        },
        "outputId": "674c6552-7dd9-4755-bab0-e68ef6701041"
      },
      "source": [
        "from tensorflow import keras\n",
        "\n",
        "input_dataset = parsed_dataset \n",
        "\n",
        "# Keras requires inputs as a tuple.  Note that the inputs must be in the\n",
        "# right shape.  Also note that to use the categorical_crossentropy loss,\n",
        "# the label needs to be turned into a one-hot vector.\n",
        "def to_tuple(inputs, label):\n",
        "  return (tf.transpose(list(inputs.values())),\n",
        "          tf.one_hot(indices=label, depth=N_CLASSES))\n",
        "\n",
        "# Map the to_tuple function, shuffle and batch.\n",
        "input_dataset = input_dataset.map(to_tuple).batch(8)\n",
        "\n",
        "# Define the layers in the model.\n",
        "model = tf.keras.models.Sequential([\n",
        "  tf.keras.layers.Dense(256, activation=tf.nn.relu,kernel_regularizer=tf.keras.regularizers.l2(l = 0.001)),\n",
        "  tf.keras.layers.Dropout(0.4),\n",
        "  tf.keras.layers.Dense(128, activation=tf.nn.relu,kernel_regularizer=tf.keras.regularizers.l2(l = 0.001)),\n",
        "  tf.keras.layers.Dropout(0.4),\n",
        "  tf.keras.layers.Dense(64, activation=tf.nn.relu,kernel_regularizer=tf.keras.regularizers.l2(l = 0.001)),\n",
        "  tf.keras.layers.Dropout(0.4),\n",
        "  tf.keras.layers.Dense(32, activation=tf.nn.relu),\n",
        "  tf.keras.layers.Dropout(0.2),\n",
        "  tf.keras.layers.Dense(16, activation=tf.nn.relu),\n",
        "  tf.keras.layers.Dropout(0.2),\n",
        "  tf.keras.layers.Dense(N_CLASSES, activation=tf.nn.softmax)\n",
        "])\n",
        "\n",
        "# Compile the model with the specified loss function.\n",
        "model.compile(optimizer=tf.keras.optimizers.Adam(),\n",
        "              loss='categorical_crossentropy',\n",
        "              metrics=['categorical_accuracy'])\n",
        "\n",
        "# Fit the model to the training data.\n",
        "model.fit(x=input_dataset, epochs=1000)"
      ],
      "execution_count": null,
      "outputs": [
        {
          "output_type": "stream",
          "text": [
            "Epoch 1/1000\n",
            "34/34 [==============================] - 0s 9ms/step - loss: 11.9331 - categorical_accuracy: 0.3643\n",
            "Epoch 2/1000\n",
            "34/34 [==============================] - 0s 8ms/step - loss: 4.9536 - categorical_accuracy: 0.2788\n",
            "Epoch 3/1000\n",
            "34/34 [==============================] - 0s 8ms/step - loss: 2.9979 - categorical_accuracy: 0.3420\n",
            "Epoch 4/1000\n",
            "22/34 [==================>...........] - ETA: 0s - loss: 2.3350 - categorical_accuracy: 0.3750"
          ],
          "name": "stdout"
        },
        {
          "output_type": "error",
          "ename": "KeyboardInterrupt",
          "evalue": "ignored",
          "traceback": [
            "\u001b[0;31m---------------------------------------------------------------------------\u001b[0m",
            "\u001b[0;31mKeyboardInterrupt\u001b[0m                         Traceback (most recent call last)",
            "\u001b[0;32m<ipython-input-18-90371cee6172>\u001b[0m in \u001b[0;36m<module>\u001b[0;34m()\u001b[0m\n\u001b[1;32m     35\u001b[0m \u001b[0;34m\u001b[0m\u001b[0m\n\u001b[1;32m     36\u001b[0m \u001b[0;31m# Fit the model to the training data.\u001b[0m\u001b[0;34m\u001b[0m\u001b[0;34m\u001b[0m\u001b[0;34m\u001b[0m\u001b[0m\n\u001b[0;32m---> 37\u001b[0;31m \u001b[0mmodel\u001b[0m\u001b[0;34m.\u001b[0m\u001b[0mfit\u001b[0m\u001b[0;34m(\u001b[0m\u001b[0mx\u001b[0m\u001b[0;34m=\u001b[0m\u001b[0minput_dataset\u001b[0m\u001b[0;34m,\u001b[0m \u001b[0mepochs\u001b[0m\u001b[0;34m=\u001b[0m\u001b[0;36m1000\u001b[0m\u001b[0;34m)\u001b[0m\u001b[0;34m\u001b[0m\u001b[0;34m\u001b[0m\u001b[0m\n\u001b[0m",
            "\u001b[0;32m/usr/local/lib/python3.6/dist-packages/tensorflow/python/keras/engine/training.py\u001b[0m in \u001b[0;36m_method_wrapper\u001b[0;34m(self, *args, **kwargs)\u001b[0m\n\u001b[1;32m    106\u001b[0m   \u001b[0;32mdef\u001b[0m \u001b[0m_method_wrapper\u001b[0m\u001b[0;34m(\u001b[0m\u001b[0mself\u001b[0m\u001b[0;34m,\u001b[0m \u001b[0;34m*\u001b[0m\u001b[0margs\u001b[0m\u001b[0;34m,\u001b[0m \u001b[0;34m**\u001b[0m\u001b[0mkwargs\u001b[0m\u001b[0;34m)\u001b[0m\u001b[0;34m:\u001b[0m\u001b[0;34m\u001b[0m\u001b[0;34m\u001b[0m\u001b[0m\n\u001b[1;32m    107\u001b[0m     \u001b[0;32mif\u001b[0m \u001b[0;32mnot\u001b[0m \u001b[0mself\u001b[0m\u001b[0;34m.\u001b[0m\u001b[0m_in_multi_worker_mode\u001b[0m\u001b[0;34m(\u001b[0m\u001b[0;34m)\u001b[0m\u001b[0;34m:\u001b[0m  \u001b[0;31m# pylint: disable=protected-access\u001b[0m\u001b[0;34m\u001b[0m\u001b[0;34m\u001b[0m\u001b[0m\n\u001b[0;32m--> 108\u001b[0;31m       \u001b[0;32mreturn\u001b[0m \u001b[0mmethod\u001b[0m\u001b[0;34m(\u001b[0m\u001b[0mself\u001b[0m\u001b[0;34m,\u001b[0m \u001b[0;34m*\u001b[0m\u001b[0margs\u001b[0m\u001b[0;34m,\u001b[0m \u001b[0;34m**\u001b[0m\u001b[0mkwargs\u001b[0m\u001b[0;34m)\u001b[0m\u001b[0;34m\u001b[0m\u001b[0;34m\u001b[0m\u001b[0m\n\u001b[0m\u001b[1;32m    109\u001b[0m \u001b[0;34m\u001b[0m\u001b[0m\n\u001b[1;32m    110\u001b[0m     \u001b[0;31m# Running inside `run_distribute_coordinator` already.\u001b[0m\u001b[0;34m\u001b[0m\u001b[0;34m\u001b[0m\u001b[0;34m\u001b[0m\u001b[0m\n",
            "\u001b[0;32m/usr/local/lib/python3.6/dist-packages/tensorflow/python/keras/engine/training.py\u001b[0m in \u001b[0;36mfit\u001b[0;34m(self, x, y, batch_size, epochs, verbose, callbacks, validation_split, validation_data, shuffle, class_weight, sample_weight, initial_epoch, steps_per_epoch, validation_steps, validation_batch_size, validation_freq, max_queue_size, workers, use_multiprocessing)\u001b[0m\n\u001b[1;32m   1096\u001b[0m                 batch_size=batch_size):\n\u001b[1;32m   1097\u001b[0m               \u001b[0mcallbacks\u001b[0m\u001b[0;34m.\u001b[0m\u001b[0mon_train_batch_begin\u001b[0m\u001b[0;34m(\u001b[0m\u001b[0mstep\u001b[0m\u001b[0;34m)\u001b[0m\u001b[0;34m\u001b[0m\u001b[0;34m\u001b[0m\u001b[0m\n\u001b[0;32m-> 1098\u001b[0;31m               \u001b[0mtmp_logs\u001b[0m \u001b[0;34m=\u001b[0m \u001b[0mtrain_function\u001b[0m\u001b[0;34m(\u001b[0m\u001b[0miterator\u001b[0m\u001b[0;34m)\u001b[0m\u001b[0;34m\u001b[0m\u001b[0;34m\u001b[0m\u001b[0m\n\u001b[0m\u001b[1;32m   1099\u001b[0m               \u001b[0;32mif\u001b[0m \u001b[0mdata_handler\u001b[0m\u001b[0;34m.\u001b[0m\u001b[0mshould_sync\u001b[0m\u001b[0;34m:\u001b[0m\u001b[0;34m\u001b[0m\u001b[0;34m\u001b[0m\u001b[0m\n\u001b[1;32m   1100\u001b[0m                 \u001b[0mcontext\u001b[0m\u001b[0;34m.\u001b[0m\u001b[0masync_wait\u001b[0m\u001b[0;34m(\u001b[0m\u001b[0;34m)\u001b[0m\u001b[0;34m\u001b[0m\u001b[0;34m\u001b[0m\u001b[0m\n",
            "\u001b[0;32m/usr/local/lib/python3.6/dist-packages/tensorflow/python/eager/def_function.py\u001b[0m in \u001b[0;36m__call__\u001b[0;34m(self, *args, **kwds)\u001b[0m\n\u001b[1;32m    778\u001b[0m       \u001b[0;32melse\u001b[0m\u001b[0;34m:\u001b[0m\u001b[0;34m\u001b[0m\u001b[0;34m\u001b[0m\u001b[0m\n\u001b[1;32m    779\u001b[0m         \u001b[0mcompiler\u001b[0m \u001b[0;34m=\u001b[0m \u001b[0;34m\"nonXla\"\u001b[0m\u001b[0;34m\u001b[0m\u001b[0;34m\u001b[0m\u001b[0m\n\u001b[0;32m--> 780\u001b[0;31m         \u001b[0mresult\u001b[0m \u001b[0;34m=\u001b[0m \u001b[0mself\u001b[0m\u001b[0;34m.\u001b[0m\u001b[0m_call\u001b[0m\u001b[0;34m(\u001b[0m\u001b[0;34m*\u001b[0m\u001b[0margs\u001b[0m\u001b[0;34m,\u001b[0m \u001b[0;34m**\u001b[0m\u001b[0mkwds\u001b[0m\u001b[0;34m)\u001b[0m\u001b[0;34m\u001b[0m\u001b[0;34m\u001b[0m\u001b[0m\n\u001b[0m\u001b[1;32m    781\u001b[0m \u001b[0;34m\u001b[0m\u001b[0m\n\u001b[1;32m    782\u001b[0m       \u001b[0mnew_tracing_count\u001b[0m \u001b[0;34m=\u001b[0m \u001b[0mself\u001b[0m\u001b[0;34m.\u001b[0m\u001b[0m_get_tracing_count\u001b[0m\u001b[0;34m(\u001b[0m\u001b[0;34m)\u001b[0m\u001b[0;34m\u001b[0m\u001b[0;34m\u001b[0m\u001b[0m\n",
            "\u001b[0;32m/usr/local/lib/python3.6/dist-packages/tensorflow/python/eager/def_function.py\u001b[0m in \u001b[0;36m_call\u001b[0;34m(self, *args, **kwds)\u001b[0m\n\u001b[1;32m    805\u001b[0m       \u001b[0;31m# In this case we have created variables on the first call, so we run the\u001b[0m\u001b[0;34m\u001b[0m\u001b[0;34m\u001b[0m\u001b[0;34m\u001b[0m\u001b[0m\n\u001b[1;32m    806\u001b[0m       \u001b[0;31m# defunned version which is guaranteed to never create variables.\u001b[0m\u001b[0;34m\u001b[0m\u001b[0;34m\u001b[0m\u001b[0;34m\u001b[0m\u001b[0m\n\u001b[0;32m--> 807\u001b[0;31m       \u001b[0;32mreturn\u001b[0m \u001b[0mself\u001b[0m\u001b[0;34m.\u001b[0m\u001b[0m_stateless_fn\u001b[0m\u001b[0;34m(\u001b[0m\u001b[0;34m*\u001b[0m\u001b[0margs\u001b[0m\u001b[0;34m,\u001b[0m \u001b[0;34m**\u001b[0m\u001b[0mkwds\u001b[0m\u001b[0;34m)\u001b[0m  \u001b[0;31m# pylint: disable=not-callable\u001b[0m\u001b[0;34m\u001b[0m\u001b[0;34m\u001b[0m\u001b[0m\n\u001b[0m\u001b[1;32m    808\u001b[0m     \u001b[0;32melif\u001b[0m \u001b[0mself\u001b[0m\u001b[0;34m.\u001b[0m\u001b[0m_stateful_fn\u001b[0m \u001b[0;32mis\u001b[0m \u001b[0;32mnot\u001b[0m \u001b[0;32mNone\u001b[0m\u001b[0;34m:\u001b[0m\u001b[0;34m\u001b[0m\u001b[0;34m\u001b[0m\u001b[0m\n\u001b[1;32m    809\u001b[0m       \u001b[0;31m# Release the lock early so that multiple threads can perform the call\u001b[0m\u001b[0;34m\u001b[0m\u001b[0;34m\u001b[0m\u001b[0;34m\u001b[0m\u001b[0m\n",
            "\u001b[0;32m/usr/local/lib/python3.6/dist-packages/tensorflow/python/eager/function.py\u001b[0m in \u001b[0;36m__call__\u001b[0;34m(self, *args, **kwargs)\u001b[0m\n\u001b[1;32m   2827\u001b[0m     \u001b[0;32mwith\u001b[0m \u001b[0mself\u001b[0m\u001b[0;34m.\u001b[0m\u001b[0m_lock\u001b[0m\u001b[0;34m:\u001b[0m\u001b[0;34m\u001b[0m\u001b[0;34m\u001b[0m\u001b[0m\n\u001b[1;32m   2828\u001b[0m       \u001b[0mgraph_function\u001b[0m\u001b[0;34m,\u001b[0m \u001b[0margs\u001b[0m\u001b[0;34m,\u001b[0m \u001b[0mkwargs\u001b[0m \u001b[0;34m=\u001b[0m \u001b[0mself\u001b[0m\u001b[0;34m.\u001b[0m\u001b[0m_maybe_define_function\u001b[0m\u001b[0;34m(\u001b[0m\u001b[0margs\u001b[0m\u001b[0;34m,\u001b[0m \u001b[0mkwargs\u001b[0m\u001b[0;34m)\u001b[0m\u001b[0;34m\u001b[0m\u001b[0;34m\u001b[0m\u001b[0m\n\u001b[0;32m-> 2829\u001b[0;31m     \u001b[0;32mreturn\u001b[0m \u001b[0mgraph_function\u001b[0m\u001b[0;34m.\u001b[0m\u001b[0m_filtered_call\u001b[0m\u001b[0;34m(\u001b[0m\u001b[0margs\u001b[0m\u001b[0;34m,\u001b[0m \u001b[0mkwargs\u001b[0m\u001b[0;34m)\u001b[0m  \u001b[0;31m# pylint: disable=protected-access\u001b[0m\u001b[0;34m\u001b[0m\u001b[0;34m\u001b[0m\u001b[0m\n\u001b[0m\u001b[1;32m   2830\u001b[0m \u001b[0;34m\u001b[0m\u001b[0m\n\u001b[1;32m   2831\u001b[0m   \u001b[0;34m@\u001b[0m\u001b[0mproperty\u001b[0m\u001b[0;34m\u001b[0m\u001b[0;34m\u001b[0m\u001b[0m\n",
            "\u001b[0;32m/usr/local/lib/python3.6/dist-packages/tensorflow/python/eager/function.py\u001b[0m in \u001b[0;36m_filtered_call\u001b[0;34m(self, args, kwargs, cancellation_manager)\u001b[0m\n\u001b[1;32m   1846\u001b[0m                            resource_variable_ops.BaseResourceVariable))],\n\u001b[1;32m   1847\u001b[0m         \u001b[0mcaptured_inputs\u001b[0m\u001b[0;34m=\u001b[0m\u001b[0mself\u001b[0m\u001b[0;34m.\u001b[0m\u001b[0mcaptured_inputs\u001b[0m\u001b[0;34m,\u001b[0m\u001b[0;34m\u001b[0m\u001b[0;34m\u001b[0m\u001b[0m\n\u001b[0;32m-> 1848\u001b[0;31m         cancellation_manager=cancellation_manager)\n\u001b[0m\u001b[1;32m   1849\u001b[0m \u001b[0;34m\u001b[0m\u001b[0m\n\u001b[1;32m   1850\u001b[0m   \u001b[0;32mdef\u001b[0m \u001b[0m_call_flat\u001b[0m\u001b[0;34m(\u001b[0m\u001b[0mself\u001b[0m\u001b[0;34m,\u001b[0m \u001b[0margs\u001b[0m\u001b[0;34m,\u001b[0m \u001b[0mcaptured_inputs\u001b[0m\u001b[0;34m,\u001b[0m \u001b[0mcancellation_manager\u001b[0m\u001b[0;34m=\u001b[0m\u001b[0;32mNone\u001b[0m\u001b[0;34m)\u001b[0m\u001b[0;34m:\u001b[0m\u001b[0;34m\u001b[0m\u001b[0;34m\u001b[0m\u001b[0m\n",
            "\u001b[0;32m/usr/local/lib/python3.6/dist-packages/tensorflow/python/eager/function.py\u001b[0m in \u001b[0;36m_call_flat\u001b[0;34m(self, args, captured_inputs, cancellation_manager)\u001b[0m\n\u001b[1;32m   1922\u001b[0m       \u001b[0;31m# No tape is watching; skip to running the function.\u001b[0m\u001b[0;34m\u001b[0m\u001b[0;34m\u001b[0m\u001b[0;34m\u001b[0m\u001b[0m\n\u001b[1;32m   1923\u001b[0m       return self._build_call_outputs(self._inference_function.call(\n\u001b[0;32m-> 1924\u001b[0;31m           ctx, args, cancellation_manager=cancellation_manager))\n\u001b[0m\u001b[1;32m   1925\u001b[0m     forward_backward = self._select_forward_and_backward_functions(\n\u001b[1;32m   1926\u001b[0m         \u001b[0margs\u001b[0m\u001b[0;34m,\u001b[0m\u001b[0;34m\u001b[0m\u001b[0;34m\u001b[0m\u001b[0m\n",
            "\u001b[0;32m/usr/local/lib/python3.6/dist-packages/tensorflow/python/eager/function.py\u001b[0m in \u001b[0;36mcall\u001b[0;34m(self, ctx, args, cancellation_manager)\u001b[0m\n\u001b[1;32m    548\u001b[0m               \u001b[0minputs\u001b[0m\u001b[0;34m=\u001b[0m\u001b[0margs\u001b[0m\u001b[0;34m,\u001b[0m\u001b[0;34m\u001b[0m\u001b[0;34m\u001b[0m\u001b[0m\n\u001b[1;32m    549\u001b[0m               \u001b[0mattrs\u001b[0m\u001b[0;34m=\u001b[0m\u001b[0mattrs\u001b[0m\u001b[0;34m,\u001b[0m\u001b[0;34m\u001b[0m\u001b[0;34m\u001b[0m\u001b[0m\n\u001b[0;32m--> 550\u001b[0;31m               ctx=ctx)\n\u001b[0m\u001b[1;32m    551\u001b[0m         \u001b[0;32melse\u001b[0m\u001b[0;34m:\u001b[0m\u001b[0;34m\u001b[0m\u001b[0;34m\u001b[0m\u001b[0m\n\u001b[1;32m    552\u001b[0m           outputs = execute.execute_with_cancellation(\n",
            "\u001b[0;32m/usr/local/lib/python3.6/dist-packages/tensorflow/python/eager/execute.py\u001b[0m in \u001b[0;36mquick_execute\u001b[0;34m(op_name, num_outputs, inputs, attrs, ctx, name)\u001b[0m\n\u001b[1;32m     58\u001b[0m     \u001b[0mctx\u001b[0m\u001b[0;34m.\u001b[0m\u001b[0mensure_initialized\u001b[0m\u001b[0;34m(\u001b[0m\u001b[0;34m)\u001b[0m\u001b[0;34m\u001b[0m\u001b[0;34m\u001b[0m\u001b[0m\n\u001b[1;32m     59\u001b[0m     tensors = pywrap_tfe.TFE_Py_Execute(ctx._handle, device_name, op_name,\n\u001b[0;32m---> 60\u001b[0;31m                                         inputs, attrs, num_outputs)\n\u001b[0m\u001b[1;32m     61\u001b[0m   \u001b[0;32mexcept\u001b[0m \u001b[0mcore\u001b[0m\u001b[0;34m.\u001b[0m\u001b[0m_NotOkStatusException\u001b[0m \u001b[0;32mas\u001b[0m \u001b[0me\u001b[0m\u001b[0;34m:\u001b[0m\u001b[0;34m\u001b[0m\u001b[0;34m\u001b[0m\u001b[0m\n\u001b[1;32m     62\u001b[0m     \u001b[0;32mif\u001b[0m \u001b[0mname\u001b[0m \u001b[0;32mis\u001b[0m \u001b[0;32mnot\u001b[0m \u001b[0;32mNone\u001b[0m\u001b[0;34m:\u001b[0m\u001b[0;34m\u001b[0m\u001b[0;34m\u001b[0m\u001b[0m\n",
            "\u001b[0;31mKeyboardInterrupt\u001b[0m: "
          ]
        }
      ]
    },
    {
      "cell_type": "markdown",
      "metadata": {
        "id": "Pa4ex_4eKiyb",
        "colab_type": "text"
      },
      "source": [
        "## Check model accuracy on the test set\n",
        "\n"
      ]
    },
    {
      "cell_type": "code",
      "metadata": {
        "id": "tE6d7FsrMa1p",
        "colab_type": "code",
        "cellView": "code",
        "colab": {
          "base_uri": "https://localhost:8080/",
          "height": 51
        },
        "outputId": "9428fc80-fe0b-4529-aa21-d1a4a63883b3"
      },
      "source": [
        "test_dataset = (\n",
        "  tf.data.TFRecordDataset(TEST_FILE_PATH, compression_type='GZIP')\n",
        "    .map(parse_tfrecord, num_parallel_calls=5)\n",
        "    .map(to_tuple)\n",
        "    .batch(1))\n",
        "\n",
        "model.evaluate(test_dataset)\n"
      ],
      "execution_count": null,
      "outputs": [
        {
          "output_type": "stream",
          "text": [
            "105/105 [==============================] - 0s 3ms/step - loss: 0.3299 - categorical_accuracy: 0.8857\n"
          ],
          "name": "stdout"
        },
        {
          "output_type": "execute_result",
          "data": {
            "text/plain": [
              "[0.3299040198326111, 0.8857142925262451]"
            ]
          },
          "metadata": {
            "tags": []
          },
          "execution_count": 44
        }
      ]
    },
    {
      "cell_type": "markdown",
      "metadata": {
        "id": "nhHrnv3VR0DU",
        "colab_type": "text"
      },
      "source": [
        "# Testing - Use the trained model to classify an image from Earth Engine\n",
        "\n"
      ]
    },
    {
      "cell_type": "code",
      "metadata": {
        "id": "hWoXz04CDQ0a",
        "colab_type": "code",
        "colab": {
          "base_uri": "https://localhost:8080/",
          "height": 51
        },
        "outputId": "3233d207-fb39-499c-d937-b54c7ec10ac2"
      },
      "source": [
        "test_dataset = (\n",
        "  tf.data.TFRecordDataset(TEST_FILE_PATH, compression_type='GZIP')\n",
        "    .map(parse_tfrecord, num_parallel_calls=5)\n",
        "    .map(to_tuple)\n",
        "    .batch(1))\n",
        "\n",
        "## Load pre-saved model\n",
        "\n",
        "loaded_model = tf.keras.models.load_model('/content/drive/My Drive/flood-mapping-GEEexports/model_withdem_0p95')\n",
        "model = loaded_model\n",
        "model.evaluate(test_dataset)"
      ],
      "execution_count": null,
      "outputs": [
        {
          "output_type": "stream",
          "text": [
            "105/105 [==============================] - 0s 3ms/step - loss: 0.2191 - categorical_accuracy: 0.9524\n"
          ],
          "name": "stdout"
        },
        {
          "output_type": "execute_result",
          "data": {
            "text/plain": [
              "[0.219124436378479, 0.9523809552192688]"
            ]
          },
          "metadata": {
            "tags": []
          },
          "execution_count": 15
        }
      ]
    },
    {
      "cell_type": "markdown",
      "metadata": {
        "id": "nmTayDitZgQ5",
        "colab_type": "text"
      },
      "source": [
        "## Find the image files and JSON mixer file in Cloud Storage\n",
        "\n"
      ]
    },
    {
      "cell_type": "code",
      "metadata": {
        "id": "oUv9WMpcVp8E",
        "colab_type": "code",
        "colab": {
          "base_uri": "https://localhost:8080/",
          "height": 51
        },
        "outputId": "f3cffa31-4de4-41ec-b34b-8b1a20014815"
      },
      "source": [
        "# Get a list of all the files in the output bucket.\n",
        "files_list = !gsutil ls 'gs://'{OUTPUT_BUCKET}\n",
        "# Get only the files generated by the image export.\n",
        "exported_files_list = [s for s in files_list if IMAGE_FILE_PREFIX in s]\n",
        "\n",
        "# Get the list of image files and the JSON mixer file.\n",
        "image_files_list = []\n",
        "json_file = None\n",
        "for f in exported_files_list:\n",
        "  if f.endswith('.tfrecord.gz'):\n",
        "    image_files_list.append(f)\n",
        "  elif f.endswith('.json'):\n",
        "    json_file = f\n",
        "\n",
        "# Make sure the files are in the right order.\n",
        "image_files_list.sort()\n",
        "\n",
        "pprint(image_files_list)\n",
        "print(json_file)"
      ],
      "execution_count": null,
      "outputs": [
        {
          "output_type": "stream",
          "text": [
            "['gs://water-classification-sensitivity/Image_pixel_nebraska_.tfrecord.gz']\n",
            "gs://water-classification-sensitivity/Image_pixel_nebraska_.json\n"
          ],
          "name": "stdout"
        }
      ]
    },
    {
      "cell_type": "markdown",
      "metadata": {
        "id": "RcjYG9fk53xL",
        "colab_type": "text"
      },
      "source": [
        "## Read the JSON mixer file\n",
        "\n"
      ]
    },
    {
      "cell_type": "code",
      "metadata": {
        "id": "Gn7Dr0AAd93_",
        "colab_type": "code",
        "colab": {
          "base_uri": "https://localhost:8080/",
          "height": 204
        },
        "outputId": "fd04a3c8-7619-4e22-fe1c-d0966fcfc74c"
      },
      "source": [
        "import json\n",
        "\n",
        "# Load the contents of the mixer file to a JSON object.\n",
        "json_text = !gsutil cat {json_file}\n",
        "# Get a single string w/ newlines from the IPython.utils.text.SList\n",
        "mixer = json.loads(json_text.nlstr)\n",
        "pprint(mixer)\n",
        "\n",
        "print(json_file)"
      ],
      "execution_count": null,
      "outputs": [
        {
          "output_type": "stream",
          "text": [
            "{'patchDimensions': [256, 256],\n",
            " 'patchesPerRow': 11,\n",
            " 'projection': {'affine': {'doubleMatrix': [30.0,\n",
            "                                            0.0,\n",
            "                                            616748.0336693602,\n",
            "                                            0.0,\n",
            "                                            -30.0,\n",
            "                                            4775112.262261056]},\n",
            "                'crs': 'EPSG:32614'},\n",
            " 'totalPatches': 66}\n",
            "gs://water-classification-sensitivity/Image_pixel_nebraska_.json\n"
          ],
          "name": "stdout"
        }
      ]
    },
    {
      "cell_type": "markdown",
      "metadata": {
        "id": "6xyzyPPJwpVI",
        "colab_type": "text"
      },
      "source": [
        "## Read the image files into a dataset\n",
        "\n"
      ]
    },
    {
      "cell_type": "code",
      "metadata": {
        "id": "tn8Kj3VfwpiJ",
        "colab_type": "code",
        "cellView": "code",
        "colab": {}
      },
      "source": [
        "# Get relevant info from the JSON mixer file.\n",
        "patch_width = mixer['patchDimensions'][0]\n",
        "patch_height = mixer['patchDimensions'][1]\n",
        "patches = mixer['totalPatches']\n",
        "patch_dimensions_flat = [patch_width * patch_height, 1]\n",
        "\n",
        "# Note that the tensors are in the shape of a patch, one patch for each band.\n",
        "image_columns = [\n",
        "  tf.io.FixedLenFeature(shape=patch_dimensions_flat, dtype=tf.float32) \n",
        "    for k in BANDS\n",
        "]\n",
        "\n",
        "# Parsing dictionary.\n",
        "image_features_dict = dict(zip(BANDS, image_columns))\n",
        "\n",
        "# Note that you can make one dataset from many files by specifying a list.\n",
        "image_dataset = tf.data.TFRecordDataset(image_files_list, compression_type='GZIP')\n",
        "\n",
        "# Parsing function.\n",
        "def parse_image(example_proto):\n",
        "  return tf.io.parse_single_example(example_proto, image_features_dict)\n",
        "\n",
        "# Parse the data into tensors, one long tensor per patch.\n",
        "image_dataset = image_dataset.map(parse_image, num_parallel_calls=5)\n",
        "\n",
        "# Break our long tensors into many little ones.\n",
        "image_dataset = image_dataset.flat_map(\n",
        "  lambda features: tf.data.Dataset.from_tensor_slices(features)\n",
        ")\n",
        "\n",
        "# Turn the dictionary in each record into a tuple without a label.\n",
        "image_dataset = image_dataset.map(\n",
        "  lambda data_dict: (tf.transpose(list(data_dict.values())), )\n",
        ")\n",
        "\n",
        "# Turn each patch into a batch.\n",
        "image_dataset = image_dataset.batch(patch_width * patch_height)"
      ],
      "execution_count": null,
      "outputs": []
    },
    {
      "cell_type": "markdown",
      "metadata": {
        "id": "_2sfRemRRDkV",
        "colab_type": "text"
      },
      "source": [
        "## Generate predictions for the image pixels\n",
        "\n",
        "To get predictions in each pixel, run the image dataset through the trained model using `model.predict()`.  Print the first prediction to see that the output is a list of the three class probabilities for each pixel.  Running all predictions might take a while."
      ]
    },
    {
      "cell_type": "code",
      "metadata": {
        "id": "8VGhmiP_REBP",
        "colab_type": "code",
        "colab": {
          "base_uri": "https://localhost:8080/",
          "height": 51
        },
        "outputId": "fb691c9c-a6d2-4fbc-944b-6b559b9848e4"
      },
      "source": [
        "# Run prediction in batches, with as many steps as there are patches.\n",
        "predictions = model.predict(image_dataset, steps=patches, verbose=1)\n",
        "\n",
        "# Note that the predictions come as a numpy array.  Check the first one.\n",
        "print(predictions[0])"
      ],
      "execution_count": null,
      "outputs": [
        {
          "output_type": "stream",
          "text": [
            "66/66 [==============================] - 122s 2s/step\n",
            "[[0.6894969  0.06189119 0.24861196]]\n"
          ],
          "name": "stdout"
        }
      ]
    },
    {
      "cell_type": "markdown",
      "metadata": {
        "id": "bPU2VlPOikAy",
        "colab_type": "text"
      },
      "source": [
        "## Write the predictions to a TFRecord file\n",
        "\n"
      ]
    },
    {
      "cell_type": "code",
      "metadata": {
        "id": "AkorbsEHepzJ",
        "colab_type": "code",
        "colab": {
          "base_uri": "https://localhost:8080/",
          "height": 34
        },
        "outputId": "42c8e199-8b02-4ea8-c450-c4a787b278c4"
      },
      "source": [
        "print('Writing to file ' + OUTPUT_IMAGE_FILE)"
      ],
      "execution_count": null,
      "outputs": [
        {
          "output_type": "stream",
          "text": [
            "Writing to file gs://water-classification-sensitivity/Classified_pixel_nebraska.TFRecord\n"
          ],
          "name": "stdout"
        }
      ]
    },
    {
      "cell_type": "code",
      "metadata": {
        "id": "kATMknHc0qeR",
        "colab_type": "code",
        "cellView": "code",
        "colab": {
          "base_uri": "https://localhost:8080/",
          "height": 1000
        },
        "outputId": "116d77a7-7ce6-4c2c-de5d-668ed89cf2f5"
      },
      "source": [
        "# Instantiate the writer.\n",
        "writer = tf.io.TFRecordWriter(OUTPUT_IMAGE_FILE)\n",
        "\n",
        "# Every patch-worth of predictions we'll dump an example into the output\n",
        "# file with a single feature that holds our predictions. Since our predictions\n",
        "# are already in the order of the exported data, the patches we create here\n",
        "# will also be in the right order.\n",
        "patch = [[], [], [], []]\n",
        "cur_patch = 1\n",
        "for prediction in predictions:\n",
        "  patch[0].append(tf.argmax(prediction, 1))\n",
        "  patch[1].append(prediction[0][0])\n",
        "  patch[2].append(prediction[0][1])\n",
        "  patch[3].append(prediction[0][2])\n",
        "  # Once we've seen a patches-worth of class_ids...\n",
        "  if (len(patch[0]) == patch_width * patch_height):\n",
        "    print('Done with patch ' + str(cur_patch) + ' of ' + str(patches) + '...')\n",
        "    # Create an example\n",
        "    example = tf.train.Example(\n",
        "      features=tf.train.Features(\n",
        "        feature={\n",
        "          'prediction': tf.train.Feature(\n",
        "              int64_list=tf.train.Int64List(\n",
        "                  value=patch[0])),\n",
        "          'nowater': tf.train.Feature(\n",
        "              float_list=tf.train.FloatList(\n",
        "                  value=patch[1])),\n",
        "          'permwater': tf.train.Feature(\n",
        "              float_list=tf.train.FloatList(\n",
        "                  value=patch[2])),\n",
        "          'floodwater': tf.train.Feature(\n",
        "              float_list=tf.train.FloatList(\n",
        "                  value=patch[3])),\n",
        "        }\n",
        "      )\n",
        "    )\n",
        "    # Write the example to the file and clear our patch array so it's ready for\n",
        "    # another batch of class ids\n",
        "    writer.write(example.SerializeToString())\n",
        "    patch = [[], [], [], []]\n",
        "    cur_patch += 1\n",
        "\n",
        "writer.close()"
      ],
      "execution_count": null,
      "outputs": [
        {
          "output_type": "stream",
          "text": [
            "Done with patch 1 of 66...\n",
            "Done with patch 2 of 66...\n",
            "Done with patch 3 of 66...\n",
            "Done with patch 4 of 66...\n",
            "Done with patch 5 of 66...\n",
            "Done with patch 6 of 66...\n",
            "Done with patch 7 of 66...\n",
            "Done with patch 8 of 66...\n",
            "Done with patch 9 of 66...\n",
            "Done with patch 10 of 66...\n",
            "Done with patch 11 of 66...\n",
            "Done with patch 12 of 66...\n",
            "Done with patch 13 of 66...\n",
            "Done with patch 14 of 66...\n",
            "Done with patch 15 of 66...\n",
            "Done with patch 16 of 66...\n",
            "Done with patch 17 of 66...\n",
            "Done with patch 18 of 66...\n",
            "Done with patch 19 of 66...\n",
            "Done with patch 20 of 66...\n",
            "Done with patch 21 of 66...\n",
            "Done with patch 22 of 66...\n",
            "Done with patch 23 of 66...\n",
            "Done with patch 24 of 66...\n",
            "Done with patch 25 of 66...\n",
            "Done with patch 26 of 66...\n",
            "Done with patch 27 of 66...\n",
            "Done with patch 28 of 66...\n",
            "Done with patch 29 of 66...\n",
            "Done with patch 30 of 66...\n",
            "Done with patch 31 of 66...\n",
            "Done with patch 32 of 66...\n",
            "Done with patch 33 of 66...\n",
            "Done with patch 34 of 66...\n",
            "Done with patch 35 of 66...\n",
            "Done with patch 36 of 66...\n",
            "Done with patch 37 of 66...\n",
            "Done with patch 38 of 66...\n",
            "Done with patch 39 of 66...\n",
            "Done with patch 40 of 66...\n",
            "Done with patch 41 of 66...\n",
            "Done with patch 42 of 66...\n",
            "Done with patch 43 of 66...\n",
            "Done with patch 44 of 66...\n",
            "Done with patch 45 of 66...\n",
            "Done with patch 46 of 66...\n",
            "Done with patch 47 of 66...\n",
            "Done with patch 48 of 66...\n",
            "Done with patch 49 of 66...\n",
            "Done with patch 50 of 66...\n",
            "Done with patch 51 of 66...\n",
            "Done with patch 52 of 66...\n",
            "Done with patch 53 of 66...\n",
            "Done with patch 54 of 66...\n",
            "Done with patch 55 of 66...\n",
            "Done with patch 56 of 66...\n",
            "Done with patch 57 of 66...\n",
            "Done with patch 58 of 66...\n",
            "Done with patch 59 of 66...\n",
            "Done with patch 60 of 66...\n",
            "Done with patch 61 of 66...\n",
            "Done with patch 62 of 66...\n",
            "Done with patch 63 of 66...\n",
            "Done with patch 64 of 66...\n",
            "Done with patch 65 of 66...\n",
            "Done with patch 66 of 66...\n"
          ],
          "name": "stdout"
        }
      ]
    },
    {
      "cell_type": "markdown",
      "metadata": {
        "id": "1K_1hKs0aBdA",
        "colab_type": "text"
      },
      "source": [
        "# Upload the classifications to an Earth Engine asset"
      ]
    },
    {
      "cell_type": "markdown",
      "metadata": {
        "id": "M6sNZXWOSa82",
        "colab_type": "text"
      },
      "source": [
        "## Verify the existence of the predictions file\n",
        "\n"
      ]
    },
    {
      "cell_type": "code",
      "metadata": {
        "id": "6ZVWDPefUCgA",
        "colab_type": "code",
        "colab": {
          "base_uri": "https://localhost:8080/",
          "height": 51
        },
        "outputId": "14cbc422-2f3a-4a9f-d526-64534f2417a0"
      },
      "source": [
        "!gsutil ls -l {OUTPUT_IMAGE_FILE}"
      ],
      "execution_count": null,
      "outputs": [
        {
          "output_type": "stream",
          "text": [
            "  56238336  2020-08-12T21:15:28Z  gs://water-classification-sensitivity/Classified_pixel_nebraska.TFRecord\n",
            "TOTAL: 1 objects, 56238336 bytes (53.63 MiB)\n"
          ],
          "name": "stdout"
        }
      ]
    },
    {
      "cell_type": "markdown",
      "metadata": {
        "id": "2ZyCo297Clcx",
        "colab_type": "text"
      },
      "source": [
        "## Upload the classified image to Earth Engine\n",
        "\n"
      ]
    },
    {
      "cell_type": "code",
      "metadata": {
        "id": "NXulMNl9lTDv",
        "colab_type": "code",
        "cellView": "code",
        "colab": {
          "base_uri": "https://localhost:8080/",
          "height": 34
        },
        "outputId": "0b573b12-e098-463a-dd1f-1b688ddfbebe"
      },
      "source": [
        "print('Uploading to ' + OUTPUT_ASSET_ID)"
      ],
      "execution_count": null,
      "outputs": [
        {
          "output_type": "stream",
          "text": [
            "Uploading to users/shahryarahmad/Classified_pixel_nebraska_withdem\n"
          ],
          "name": "stdout"
        }
      ]
    },
    {
      "cell_type": "code",
      "metadata": {
        "id": "V64tcVxsO5h6",
        "colab_type": "code",
        "colab": {
          "base_uri": "https://localhost:8080/",
          "height": 1000
        },
        "outputId": "2cec0295-d296-4f8c-8fa0-077ad0794b6c"
      },
      "source": [
        "# Start the upload.\n",
        "# json_file = 'gs://water-classification-sensitivity/Image_pixel_laos_mixer.json'\n",
        "\n",
        "print(json_file)\n",
        "!earthengine upload image --asset_id={OUTPUT_ASSET_ID} --pyramiding_policy=mode {OUTPUT_IMAGE_FILE} {json_file}"
      ],
      "execution_count": null,
      "outputs": [
        {
          "output_type": "stream",
          "text": [
            "gs://water-classification-sensitivity/Image_pixel_nebraska_.json\n",
            "WARNING:tensorflow:From /usr/local/lib/python3.6/dist-packages/tensorflow/python/compat/v2_compat.py:96: disable_resource_variables (from tensorflow.python.ops.variable_scope) is deprecated and will be removed in a future version.\n",
            "Instructions for updating:\n",
            "non-resource variables are not supported in the long term\n",
            "Running command using Cloud API.  Set --no-use_cloud_api to go back to using the API\n",
            "\n",
            "W0812 21:15:35.906630 140573112567680 __init__.py:46] file_cache is unavailable when using oauth2client >= 4.0.0 or google-auth\n",
            "Traceback (most recent call last):\n",
            "  File \"/usr/local/lib/python3.6/dist-packages/googleapiclient/discovery_cache/__init__.py\", line 36, in autodetect\n",
            "    from google.appengine.api import memcache\n",
            "ModuleNotFoundError: No module named 'google.appengine'\n",
            "\n",
            "During handling of the above exception, another exception occurred:\n",
            "\n",
            "Traceback (most recent call last):\n",
            "  File \"/usr/local/lib/python3.6/dist-packages/googleapiclient/discovery_cache/file_cache.py\", line 33, in <module>\n",
            "    from oauth2client.contrib.locked_file import LockedFile\n",
            "ModuleNotFoundError: No module named 'oauth2client.contrib.locked_file'\n",
            "\n",
            "During handling of the above exception, another exception occurred:\n",
            "\n",
            "Traceback (most recent call last):\n",
            "  File \"/usr/local/lib/python3.6/dist-packages/googleapiclient/discovery_cache/file_cache.py\", line 37, in <module>\n",
            "    from oauth2client.locked_file import LockedFile\n",
            "ModuleNotFoundError: No module named 'oauth2client.locked_file'\n",
            "\n",
            "During handling of the above exception, another exception occurred:\n",
            "\n",
            "Traceback (most recent call last):\n",
            "  File \"/usr/local/lib/python3.6/dist-packages/googleapiclient/discovery_cache/__init__.py\", line 42, in autodetect\n",
            "    from . import file_cache\n",
            "  File \"/usr/local/lib/python3.6/dist-packages/googleapiclient/discovery_cache/file_cache.py\", line 41, in <module>\n",
            "    \"file_cache is unavailable when using oauth2client >= 4.0.0 or google-auth\"\n",
            "ImportError: file_cache is unavailable when using oauth2client >= 4.0.0 or google-auth\n",
            "I0812 21:15:35.907206 140573112567680 discovery.py:275] URL being requested: GET https://earthengine.googleapis.com/$discovery/rest?version=v1alpha&prettyPrint=false\n",
            "W0812 21:15:36.105538 140573112567680 __init__.py:46] file_cache is unavailable when using oauth2client >= 4.0.0 or google-auth\n",
            "Traceback (most recent call last):\n",
            "  File \"/usr/local/lib/python3.6/dist-packages/googleapiclient/discovery_cache/__init__.py\", line 36, in autodetect\n",
            "    from google.appengine.api import memcache\n",
            "ModuleNotFoundError: No module named 'google.appengine'\n",
            "\n",
            "During handling of the above exception, another exception occurred:\n",
            "\n",
            "Traceback (most recent call last):\n",
            "  File \"/usr/local/lib/python3.6/dist-packages/googleapiclient/discovery_cache/file_cache.py\", line 33, in <module>\n",
            "    from oauth2client.contrib.locked_file import LockedFile\n",
            "ModuleNotFoundError: No module named 'oauth2client.contrib.locked_file'\n",
            "\n",
            "During handling of the above exception, another exception occurred:\n",
            "\n",
            "Traceback (most recent call last):\n",
            "  File \"/usr/local/lib/python3.6/dist-packages/googleapiclient/discovery_cache/file_cache.py\", line 37, in <module>\n",
            "    from oauth2client.locked_file import LockedFile\n",
            "ModuleNotFoundError: No module named 'oauth2client.locked_file'\n",
            "\n",
            "During handling of the above exception, another exception occurred:\n",
            "\n",
            "Traceback (most recent call last):\n",
            "  File \"/usr/local/lib/python3.6/dist-packages/googleapiclient/discovery_cache/__init__.py\", line 42, in autodetect\n",
            "    from . import file_cache\n",
            "  File \"/usr/local/lib/python3.6/dist-packages/googleapiclient/discovery_cache/file_cache.py\", line 41, in <module>\n",
            "    \"file_cache is unavailable when using oauth2client >= 4.0.0 or google-auth\"\n",
            "ImportError: file_cache is unavailable when using oauth2client >= 4.0.0 or google-auth\n",
            "I0812 21:15:36.105821 140573112567680 discovery.py:275] URL being requested: GET https://earthengine.googleapis.com/$discovery/rest?version=v1alpha&prettyPrint=false\n",
            "I0812 21:15:36.399080 140573112567680 discovery.py:894] URL being requested: GET https://earthengine.googleapis.com/v1alpha/projects/earthengine-legacy/algorithms?prettyPrint=false&alt=json\n",
            "I0812 21:15:36.666943 140573112567680 discovery.py:894] URL being requested: POST https://earthengine.googleapis.com/v1alpha/projects/earthengine-legacy/image:import?alt=json\n",
            "Started upload task with ID: VCCYM6YXGSAKWLRUA2QFSJFK\n"
          ],
          "name": "stdout"
        }
      ]
    },
    {
      "cell_type": "markdown",
      "metadata": {
        "id": "Yt4HyhUU_Bal",
        "colab_type": "text"
      },
      "source": [
        "## Check the status of the asset ingestion\n",
        "\n"
      ]
    },
    {
      "cell_type": "code",
      "metadata": {
        "id": "_vB-gwGhl_3C",
        "colab_type": "code",
        "cellView": "code",
        "colab": {
          "base_uri": "https://localhost:8080/",
          "height": 1000
        },
        "outputId": "ee353097-6d78-456e-e7ec-387f11316fa0"
      },
      "source": [
        "ee.batch.Task.list()\n"
      ],
      "execution_count": null,
      "outputs": [
        {
          "output_type": "execute_result",
          "data": {
            "text/plain": [
              "[<Task INGEST_IMAGE: Ingest image: \"projects/earthengine-legacy/assets/users/shahryarahmad/Classified_pixel_nebraska_withdem\" (READY)>,\n",
              " <Task EXPORT_IMAGE: Image Export (COMPLETED)>,\n",
              " <Task INGEST_IMAGE: Ingest image: \"projects/earthengine-legacy/assets/users/shahryarahmad/Classified_pixel_laos_withdemRe\" (COMPLETED)>,\n",
              " <Task INGEST_IMAGE: Ingest image: \"projects/earthengine-legacy/assets/users/shahryarahmad/Classified_pixel_laos_withdemRe\" (FAILED)>,\n",
              " <Task INGEST_IMAGE: Ingest image: \"projects/earthengine-legacy/assets/users/shahryarahmad/Classified_pixel_laos_withdemRe\" (FAILED)>,\n",
              " <Task INGEST_IMAGE: Ingest image: \"projects/earthengine-legacy/assets/users/shahryarahmad/Classified_pixel_laos_withdemRe\" (FAILED)>,\n",
              " <Task EXPORT_IMAGE: Image Export (COMPLETED)>,\n",
              " <Task INGEST_IMAGE: Ingest image: \"projects/earthengine-legacy/assets/users/shahryarahmad/Classified_pixel_laos_withdemRe\" (COMPLETED)>,\n",
              " <Task INGEST_IMAGE: Ingest image: \"projects/earthengine-legacy/assets/users/shahryarahmad/Classified_pixel_laos_Re\" (COMPLETED)>,\n",
              " <Task INGEST_IMAGE: Ingest image: \"projects/earthengine-legacy/assets/users/shahryarahmad/Classified_pixel_laos_Re\" (FAILED)>,\n",
              " <Task INGEST_IMAGE: Ingest image: \"projects/earthengine-legacy/assets/users/shahryarahmad/Classified_pixel_laos_Re\" (FAILED)>,\n",
              " <Task INGEST_IMAGE: Ingest image: \"projects/earthengine-legacy/assets/users/shahryarahmad/Classified_pixel_laos_withdemRe\" (FAILED)>,\n",
              " <Task INGEST_IMAGE: Ingest image: \"projects/earthengine-legacy/assets/users/shahryarahmad/Classified_pixel_laos_withdemRe\" (FAILED)>,\n",
              " <Task EXPORT_IMAGE: Image Export (COMPLETED)>,\n",
              " <Task EXPORT_IMAGE: Image Export (COMPLETED)>,\n",
              " <Task INGEST_IMAGE: Ingest image: \"projects/earthengine-legacy/assets/users/shahryarahmad/Classified_pixel_laos_withdem\" (COMPLETED)>,\n",
              " <Task INGEST_IMAGE: Ingest image: \"projects/earthengine-legacy/assets/users/shahryarahmad/Classified_pixel_laos_withdem\" (FAILED)>,\n",
              " <Task INGEST_IMAGE: Ingest image: \"projects/earthengine-legacy/assets/users/shahryarahmad/Classified_pixel_laos\" (COMPLETED)>,\n",
              " <Task EXPORT_IMAGE: Image Export (COMPLETED)>,\n",
              " <Task EXPORT_IMAGE: Image Export (COMPLETED)>,\n",
              " <Task EXPORT_IMAGE: myExportImageTask (COMPLETED)>,\n",
              " <Task EXPORT_IMAGE: myExportImageTask (COMPLETED)>,\n",
              " <Task EXPORT_IMAGE: myExportImageTask (COMPLETED)>,\n",
              " <Task EXPORT_IMAGE: myExportImageTask (COMPLETED)>,\n",
              " <Task INGEST_IMAGE: Ingest image: \"projects/earthengine-legacy/assets/users/shahryarahmad/Classified_pixel_uruguay_withdem\" (COMPLETED)>,\n",
              " <Task INGEST_IMAGE: Ingest image: \"projects/earthengine-legacy/assets/users/shahryarahmad/Classified_pixel_uruguay_withdem\" (FAILED)>,\n",
              " <Task INGEST_IMAGE: Ingest image: \"projects/earthengine-legacy/assets/users/shahryarahmad/Classified_pixel_uruguay_withdem\" (FAILED)>,\n",
              " <Task EXPORT_IMAGE: Image Export (COMPLETED)>,\n",
              " <Task EXPORT_IMAGE: Image Export (COMPLETED)>,\n",
              " <Task INGEST_IMAGE: Ingest image: \"projects/earthengine-legacy/assets/users/shahryarahmad/Classified_pixel_uruguay_withtrain\" (FAILED)>,\n",
              " <Task INGEST_IMAGE: Ingest image: \"projects/earthengine-legacy/assets/users/shahryarahmad/Classified_pixel_uruguay_withtrain\" (COMPLETED)>,\n",
              " <Task INGEST_IMAGE: Ingest image: \"projects/earthengine-legacy/assets/users/shahryarahmad/Classified_pixel_uruguay_withtrain\" (FAILED)>,\n",
              " <Task INGEST_IMAGE: Ingest image: \"projects/earthengine-legacy/assets/users/shahryarahmad/Classified_pixel_uruguay_withtrain\" (FAILED)>,\n",
              " <Task INGEST_IMAGE: Ingest image: \"projects/earthengine-legacy/assets/users/shahryarahmad/Classified_pixel_uruguay_withtrain\" (FAILED)>,\n",
              " <Task INGEST_IMAGE: Ingest image: \"projects/earthengine-legacy/assets/users/shahryarahmad/Classified_pixel_uruguay_withtrain\" (FAILED)>,\n",
              " <Task EXPORT_IMAGE: Image Export (COMPLETED)>,\n",
              " <Task EXPORT_IMAGE: myExportImageTask (COMPLETED)>,\n",
              " <Task EXPORT_IMAGE: myExportImageTask (COMPLETED)>,\n",
              " <Task INGEST_IMAGE: Ingest image: \"projects/earthengine-legacy/assets/users/shahryarahmad/Classified_pixel_periyarBig_withtrain\" (COMPLETED)>,\n",
              " <Task EXPORT_IMAGE: myExportImageTask (COMPLETED)>,\n",
              " <Task EXPORT_IMAGE: myExportImageTask (FAILED)>,\n",
              " <Task EXPORT_FEATURES: Testing Export (COMPLETED)>,\n",
              " <Task EXPORT_FEATURES: Training Export (COMPLETED)>,\n",
              " <Task EXPORT_IMAGE: myExportImageTask (COMPLETED)>,\n",
              " <Task EXPORT_IMAGE: myExportImageTask (COMPLETED)>,\n",
              " <Task EXPORT_FEATURES: labeldata_to_asset (COMPLETED)>,\n",
              " <Task INGEST_IMAGE: Ingest image: \"projects/earthengine-legacy/assets/users/shahryarahmad/Classified_pixel_periyarBig_withtrain\" (COMPLETED)>,\n",
              " <Task EXPORT_FEATURES: Testing Export (COMPLETED)>,\n",
              " <Task EXPORT_FEATURES: Training Export (COMPLETED)>,\n",
              " <Task INGEST_IMAGE: Ingest image: \"projects/earthengine-legacy/assets/users/shahryarahmad/Classified_pixel_withtrainperiyarBig\" (COMPLETED)>,\n",
              " <Task INGEST_IMAGE: Ingest image: \"projects/earthengine-legacy/assets/users/shahryarahmad/Classified_pixel_periyarBig_withdem\" (COMPLETED)>,\n",
              " <Task EXPORT_IMAGE: Image Export (COMPLETED)>,\n",
              " <Task EXPORT_IMAGE: Image Export (COMPLETED)>,\n",
              " <Task EXPORT_IMAGE: Image Export (COMPLETED)>,\n",
              " <Task EXPORT_IMAGE: Image Export (COMPLETED)>,\n",
              " <Task EXPORT_IMAGE: myExportImageTask (COMPLETED)>,\n",
              " <Task EXPORT_IMAGE: myExportImageTask (COMPLETED)>,\n",
              " <Task EXPORT_IMAGE: myExportImageTask (COMPLETED)>,\n",
              " <Task INGEST_IMAGE: Ingest image: \"projects/earthengine-legacy/assets/users/shahryarahmad/Classified_pixel_withtrainperiyar2\" (COMPLETED)>,\n",
              " <Task EXPORT_FEATURES: Testing Export (COMPLETED)>,\n",
              " <Task EXPORT_FEATURES: Training Export (COMPLETED)>,\n",
              " <Task EXPORT_FEATURES: labeldata_to_asset (COMPLETED)>,\n",
              " <Task INGEST_IMAGE: Ingest image: \"projects/earthengine-legacy/assets/users/shahryarahmad/Classified_pixel_periyar2_withdem\" (COMPLETED)>,\n",
              " <Task INGEST_IMAGE: Ingest image: \"projects/earthengine-legacy/assets/users/shahryarahmad/Classified_pixel_mozam_withdem1\" (COMPLETED)>,\n",
              " <Task INGEST_IMAGE: Ingest image: \"projects/earthengine-legacy/assets/users/shahryarahmad/Classified_pixel_withtrainmozam\" (COMPLETED)>]"
            ]
          },
          "metadata": {
            "tags": []
          },
          "execution_count": 25
        }
      ]
    },
    {
      "cell_type": "markdown",
      "metadata": {
        "id": "vvXvy9GDhM-p",
        "colab_type": "text"
      },
      "source": [
        "## View the ingested asset in GEE\n",
        "\n"
      ]
    }
  ]
}